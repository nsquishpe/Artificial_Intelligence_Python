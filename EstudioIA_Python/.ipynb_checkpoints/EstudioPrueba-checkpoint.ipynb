{
 "cells": [
  {
   "cell_type": "markdown",
   "id": "888e9680",
   "metadata": {},
   "source": [
    "**Librerías a utilizar**"
   ]
  },
  {
   "cell_type": "code",
   "execution_count": 1,
   "id": "2a86ef66",
   "metadata": {},
   "outputs": [],
   "source": [
    "import numpy as np\n",
    "import pandas as pd\n",
    "import matplotlib.pyplot as plt\n",
    "\n",
    "# librerías de scikit-learn\n",
    "from sklearn import datasets, linear_model\n",
    "from sklearn.preprocessing import PolynomialFeatures\n",
    "from sklearn.model_selection import train_test_split\n",
    "\n",
    "# importamos librerías para calcular las métricas\n",
    "from sklearn.metrics import mean_squared_error, r2_score, mean_absolute_error,median_absolute_error\n",
    "from sklearn.model_selection import cross_val_score"
   ]
  },
  {
   "cell_type": "markdown",
   "id": "981de78a",
   "metadata": {},
   "source": [
    "**Lectura de datos**"
   ]
  },
  {
   "cell_type": "code",
   "execution_count": 4,
   "id": "220d5421",
   "metadata": {},
   "outputs": [
    {
     "data": {
      "text/html": [
       "<div>\n",
       "<style scoped>\n",
       "    .dataframe tbody tr th:only-of-type {\n",
       "        vertical-align: middle;\n",
       "    }\n",
       "\n",
       "    .dataframe tbody tr th {\n",
       "        vertical-align: top;\n",
       "    }\n",
       "\n",
       "    .dataframe thead th {\n",
       "        text-align: right;\n",
       "    }\n",
       "</style>\n",
       "<table border=\"1\" class=\"dataframe\">\n",
       "  <thead>\n",
       "    <tr style=\"text-align: right;\">\n",
       "      <th></th>\n",
       "      <th>date</th>\n",
       "      <th>price</th>\n",
       "      <th>bedrooms</th>\n",
       "      <th>bathrooms</th>\n",
       "      <th>sqft_living</th>\n",
       "      <th>sqft_lot</th>\n",
       "      <th>floors</th>\n",
       "      <th>condition</th>\n",
       "      <th>grade</th>\n",
       "      <th>yr_built</th>\n",
       "      <th>zipcode</th>\n",
       "    </tr>\n",
       "  </thead>\n",
       "  <tbody>\n",
       "    <tr>\n",
       "      <th>0</th>\n",
       "      <td>20141013T000000</td>\n",
       "      <td>221900</td>\n",
       "      <td>3</td>\n",
       "      <td>1.00</td>\n",
       "      <td>1180</td>\n",
       "      <td>5650</td>\n",
       "      <td>1.0</td>\n",
       "      <td>3</td>\n",
       "      <td>7</td>\n",
       "      <td>1955</td>\n",
       "      <td>98178</td>\n",
       "    </tr>\n",
       "    <tr>\n",
       "      <th>1</th>\n",
       "      <td>20141209T000000</td>\n",
       "      <td>538000</td>\n",
       "      <td>3</td>\n",
       "      <td>2.25</td>\n",
       "      <td>2570</td>\n",
       "      <td>7242</td>\n",
       "      <td>2.0</td>\n",
       "      <td>3</td>\n",
       "      <td>7</td>\n",
       "      <td>1951</td>\n",
       "      <td>98125</td>\n",
       "    </tr>\n",
       "    <tr>\n",
       "      <th>2</th>\n",
       "      <td>20150225T000000</td>\n",
       "      <td>180000</td>\n",
       "      <td>2</td>\n",
       "      <td>1.00</td>\n",
       "      <td>770</td>\n",
       "      <td>10000</td>\n",
       "      <td>1.0</td>\n",
       "      <td>3</td>\n",
       "      <td>6</td>\n",
       "      <td>1933</td>\n",
       "      <td>98028</td>\n",
       "    </tr>\n",
       "    <tr>\n",
       "      <th>3</th>\n",
       "      <td>20141209T000000</td>\n",
       "      <td>604000</td>\n",
       "      <td>4</td>\n",
       "      <td>3.00</td>\n",
       "      <td>1960</td>\n",
       "      <td>5000</td>\n",
       "      <td>1.0</td>\n",
       "      <td>5</td>\n",
       "      <td>7</td>\n",
       "      <td>1965</td>\n",
       "      <td>98136</td>\n",
       "    </tr>\n",
       "    <tr>\n",
       "      <th>4</th>\n",
       "      <td>20150218T000000</td>\n",
       "      <td>510000</td>\n",
       "      <td>3</td>\n",
       "      <td>2.00</td>\n",
       "      <td>1680</td>\n",
       "      <td>8080</td>\n",
       "      <td>1.0</td>\n",
       "      <td>3</td>\n",
       "      <td>8</td>\n",
       "      <td>1987</td>\n",
       "      <td>98074</td>\n",
       "    </tr>\n",
       "  </tbody>\n",
       "</table>\n",
       "</div>"
      ],
      "text/plain": [
       "              date   price  bedrooms  bathrooms  sqft_living  sqft_lot  \\\n",
       "0  20141013T000000  221900         3       1.00         1180      5650   \n",
       "1  20141209T000000  538000         3       2.25         2570      7242   \n",
       "2  20150225T000000  180000         2       1.00          770     10000   \n",
       "3  20141209T000000  604000         4       3.00         1960      5000   \n",
       "4  20150218T000000  510000         3       2.00         1680      8080   \n",
       "\n",
       "   floors  condition  grade  yr_built  zipcode  \n",
       "0     1.0          3      7      1955    98178  \n",
       "1     2.0          3      7      1951    98125  \n",
       "2     1.0          3      6      1933    98028  \n",
       "3     1.0          5      7      1965    98136  \n",
       "4     1.0          3      8      1987    98074  "
      ]
     },
     "execution_count": 4,
     "metadata": {},
     "output_type": "execute_result"
    }
   ],
   "source": [
    "pc = pd.read_csv('home_data.csv')\n",
    "pc.head()"
   ]
  },
  {
   "cell_type": "markdown",
   "id": "0f8d8695",
   "metadata": {},
   "source": [
    "**Análisis detallado tomando una zona**"
   ]
  },
  {
   "cell_type": "code",
   "execution_count": 12,
   "id": "21d80fd2",
   "metadata": {},
   "outputs": [
    {
     "data": {
      "text/html": [
       "<div>\n",
       "<style scoped>\n",
       "    .dataframe tbody tr th:only-of-type {\n",
       "        vertical-align: middle;\n",
       "    }\n",
       "\n",
       "    .dataframe tbody tr th {\n",
       "        vertical-align: top;\n",
       "    }\n",
       "\n",
       "    .dataframe thead th {\n",
       "        text-align: right;\n",
       "    }\n",
       "</style>\n",
       "<table border=\"1\" class=\"dataframe\">\n",
       "  <thead>\n",
       "    <tr style=\"text-align: right;\">\n",
       "      <th></th>\n",
       "      <th>date</th>\n",
       "      <th>price</th>\n",
       "      <th>bedrooms</th>\n",
       "      <th>bathrooms</th>\n",
       "      <th>sqft_living</th>\n",
       "      <th>sqft_lot</th>\n",
       "      <th>floors</th>\n",
       "      <th>condition</th>\n",
       "      <th>grade</th>\n",
       "      <th>yr_built</th>\n",
       "    </tr>\n",
       "  </thead>\n",
       "  <tbody>\n",
       "    <tr>\n",
       "      <th>4</th>\n",
       "      <td>20150218T000000</td>\n",
       "      <td>510000</td>\n",
       "      <td>3</td>\n",
       "      <td>2.00</td>\n",
       "      <td>1680</td>\n",
       "      <td>8080</td>\n",
       "      <td>1.0</td>\n",
       "      <td>3</td>\n",
       "      <td>8</td>\n",
       "      <td>1987</td>\n",
       "    </tr>\n",
       "    <tr>\n",
       "      <th>13</th>\n",
       "      <td>20141007T000000</td>\n",
       "      <td>400000</td>\n",
       "      <td>3</td>\n",
       "      <td>1.75</td>\n",
       "      <td>1370</td>\n",
       "      <td>9680</td>\n",
       "      <td>1.0</td>\n",
       "      <td>4</td>\n",
       "      <td>7</td>\n",
       "      <td>1977</td>\n",
       "    </tr>\n",
       "    <tr>\n",
       "      <th>40</th>\n",
       "      <td>20140715T000000</td>\n",
       "      <td>625000</td>\n",
       "      <td>4</td>\n",
       "      <td>2.50</td>\n",
       "      <td>2570</td>\n",
       "      <td>5520</td>\n",
       "      <td>2.0</td>\n",
       "      <td>3</td>\n",
       "      <td>9</td>\n",
       "      <td>2000</td>\n",
       "    </tr>\n",
       "    <tr>\n",
       "      <th>187</th>\n",
       "      <td>20140505T000000</td>\n",
       "      <td>560000</td>\n",
       "      <td>3</td>\n",
       "      <td>2.50</td>\n",
       "      <td>1900</td>\n",
       "      <td>8744</td>\n",
       "      <td>2.0</td>\n",
       "      <td>3</td>\n",
       "      <td>8</td>\n",
       "      <td>1987</td>\n",
       "    </tr>\n",
       "    <tr>\n",
       "      <th>212</th>\n",
       "      <td>20140515T000000</td>\n",
       "      <td>592500</td>\n",
       "      <td>4</td>\n",
       "      <td>2.50</td>\n",
       "      <td>2240</td>\n",
       "      <td>12032</td>\n",
       "      <td>1.0</td>\n",
       "      <td>3</td>\n",
       "      <td>9</td>\n",
       "      <td>1983</td>\n",
       "    </tr>\n",
       "  </tbody>\n",
       "</table>\n",
       "</div>"
      ],
      "text/plain": [
       "                date   price  bedrooms  bathrooms  sqft_living  sqft_lot  \\\n",
       "4    20150218T000000  510000         3       2.00         1680      8080   \n",
       "13   20141007T000000  400000         3       1.75         1370      9680   \n",
       "40   20140715T000000  625000         4       2.50         2570      5520   \n",
       "187  20140505T000000  560000         3       2.50         1900      8744   \n",
       "212  20140515T000000  592500         4       2.50         2240     12032   \n",
       "\n",
       "     floors  condition  grade  yr_built  \n",
       "4       1.0          3      8      1987  \n",
       "13      1.0          4      7      1977  \n",
       "40      2.0          3      9      2000  \n",
       "187     2.0          3      8      1987  \n",
       "212     1.0          3      9      1983  "
      ]
     },
     "execution_count": 12,
     "metadata": {},
     "output_type": "execute_result"
    }
   ],
   "source": [
    "pc98074 = pc[(pc[\"zipcode\"] == 98074)]\n",
    "#Elimino última columna\n",
    "pc98074 = pc98074.drop('zipcode',axis=1)\n",
    "pc98074.head()"
   ]
  },
  {
   "cell_type": "markdown",
   "id": "e180ca4c",
   "metadata": {},
   "source": [
    "**Regresión Lineal - Modelo multivariable**"
   ]
  },
  {
   "cell_type": "code",
   "execution_count": 13,
   "id": "1e396a66",
   "metadata": {},
   "outputs": [],
   "source": [
    "#Toma valor propiedades de casas\n",
    "X= pc98074.iloc[:,[2,3,4,5,6,7,8,9]];\n",
    "\n",
    "#Toma el valor del precio\n",
    "y= pc98074.iloc[:,[1]];"
   ]
  },
  {
   "cell_type": "code",
   "execution_count": 14,
   "id": "e1ee143b",
   "metadata": {},
   "outputs": [],
   "source": [
    "# Separamos los datos en entrenamiento y prueba 75% 25%\n",
    "X_train, X_test, y_train, y_test = train_test_split(X, y, random_state=0)"
   ]
  },
  {
   "cell_type": "code",
   "execution_count": 15,
   "id": "8e57d852",
   "metadata": {},
   "outputs": [],
   "source": [
    "#Ajustar el modelo con la función fit\n",
    "lmdm = linear_model.LinearRegression();\n",
    "lmdm.fit(X_train,y_train);"
   ]
  },
  {
   "cell_type": "code",
   "execution_count": 16,
   "id": "92223870",
   "metadata": {},
   "outputs": [
    {
     "name": "stdout",
     "output_type": "stream",
     "text": [
      "Error medio cuadrático         :   19288380295.24\n",
      "Error medio absoluto           :         72626.04\n",
      "Error mediano absoluto         :         39070.02\n",
      "coeficiente de determinación R2:             0.65\n"
     ]
    }
   ],
   "source": [
    "#Métricas datos de entrenamiento \n",
    "\n",
    "yPredm = lmdm.predict(X_train)\n",
    "\n",
    "mse_mlm = mean_squared_error(y_train, yPredm)\n",
    "mae_mlm = mean_absolute_error(y_train, yPredm)\n",
    "mdae_mlm = median_absolute_error(y_train, yPredm)\n",
    "r2_mlm   = r2_score(y_train, yPredm)  \n",
    "\n",
    "print('Error medio cuadrático         : %16.2f' %mse_mlm)\n",
    "print('Error medio absoluto           : %16.2f' %mae_mlm)\n",
    "print('Error mediano absoluto         : %16.2f' %mdae_mlm)\n",
    "print('coeficiente de determinación R2: %16.2f' %r2_mlm)"
   ]
  },
  {
   "cell_type": "code",
   "execution_count": 17,
   "id": "77f44fa2",
   "metadata": {},
   "outputs": [
    {
     "name": "stdout",
     "output_type": "stream",
     "text": [
      "Error medio cuadrático         :   71988697511.84\n",
      "Error medio absoluto           :        113186.22\n",
      "Error mediano absoluto         :         53700.79\n",
      "coeficiente de determinación R2:             0.39\n"
     ]
    }
   ],
   "source": [
    "#Métricas datos de prueba\n",
    "\n",
    "yPredp = lmdm.predict(X_test)\n",
    "\n",
    "mse_mlpm = mean_squared_error(y_test, yPredp)   \n",
    "mae_mlpm = mean_absolute_error(y_test, yPredp)\n",
    "mdae_mlpm = median_absolute_error(y_test, yPredp)\n",
    "r2_mlpm   = r2_score(y_test, yPredp)  \n",
    "\n",
    "print('Error medio cuadrático         : %16.2f' %mse_mlpm)\n",
    "print('Error medio absoluto           : %16.2f' %mae_mlpm)\n",
    "print('Error mediano absoluto         : %16.2f' %mdae_mlpm)\n",
    "print('coeficiente de determinación R2: %16.2f' %r2_mlpm)"
   ]
  },
  {
   "cell_type": "code",
   "execution_count": 23,
   "id": "c792215d",
   "metadata": {},
   "outputs": [
    {
     "name": "stdout",
     "output_type": "stream",
     "text": [
      "theta0 =  [-2627172.03982102]\n",
      "theta1 a theta8 = [[-3.72640826e+04  2.55727828e+04  1.70789838e+02  4.77895979e-01\n",
      "  -3.23805584e+03  4.60039360e+04  4.52826726e+04  1.19934410e+03]]\n"
     ]
    }
   ],
   "source": [
    "#Thetas\n",
    "print('theta0 = ', lmdm.intercept_)\n",
    "print(\"theta1 a theta8 =\",  lmdm.coef_)"
   ]
  },
  {
   "cell_type": "markdown",
   "id": "ff12ec4f",
   "metadata": {},
   "source": [
    "**Predicciones**"
   ]
  },
  {
   "cell_type": "code",
   "execution_count": 32,
   "id": "facd9be3",
   "metadata": {},
   "outputs": [
    {
     "name": "stdout",
     "output_type": "stream",
     "text": [
      "el precio de una casa de 4 cuartos, 2 baños, 3000 pies2, 6000 pies de terreno, 2 pisos, condicion 3, grado 7 y del 2010 es = $  845713  USD\n"
     ]
    },
    {
     "name": "stderr",
     "output_type": "stream",
     "text": [
      "C:\\Users\\Laptop\\anaconda\\lib\\site-packages\\sklearn\\base.py:450: UserWarning: X does not have valid feature names, but LinearRegression was fitted with feature names\n",
      "  warnings.warn(\n"
     ]
    }
   ],
   "source": [
    "c2=[4, 3, 4000, 6000, 2, 3, 7, 2010];\n",
    "pc2=lmdm.predict(np.array(c2).reshape(1,-1));\n",
    "print('el precio de una casa de 4 cuartos, 2 baños, 3000 pies2, 6000 pies de terreno, 2 pisos, condicion 3, grado 7 y del 2010 es = $%8.0f  USD' % pc2)"
   ]
  },
  {
   "cell_type": "markdown",
   "id": "1039cade",
   "metadata": {},
   "source": [
    "**Grafica**"
   ]
  },
  {
   "cell_type": "code",
   "execution_count": 39,
   "id": "6698dee3",
   "metadata": {},
   "outputs": [
    {
     "data": {
      "image/png": "[encoded data removed]",
      "text/plain": [
       "<Figure size 432x288 with 1 Axes>"
      ]
     },
     "metadata": {
      "needs_background": "light"
     },
     "output_type": "display_data"
    }
   ],
   "source": [
    "x1= pc98074.iloc[:,[4]];\n",
    "y= pc98074.iloc[:,[1]];\n",
    "x1_train, x1_test, y_train, y_test = train_test_split(x1, y, random_state=0)\n",
    "\n",
    "lmd   = linear_model.LinearRegression();\n",
    "lmd.fit(x1_train,y_train);\n",
    "\n",
    "arr = x1.to_numpy()\n",
    "\n",
    "\n",
    "plt.figure()\n",
    "plt.scatter(x1_train, y_train, label='datos de entrenamiento')\n",
    "plt.scatter(x1_test, y_test, label='datos de prueba')\n",
    "plt.plot(arr,aux,label='modelo lineal -de predicción- ');\n",
    "plt.legend(loc=2);"
   ]
  },
  {
   "cell_type": "code",
   "execution_count": null,
   "id": "ff303c3e",
   "metadata": {},
   "outputs": [],
   "source": []
  }
 ],
 "metadata": {
  "kernelspec": {
   "display_name": "Python 3 (ipykernel)",
   "language": "python",
   "name": "python3"
  },
  "language_info": {
   "codemirror_mode": {
    "name": "ipython",
    "version": 3
   },
   "file_extension": ".py",
   "mimetype": "text/x-python",
   "name": "python",
   "nbconvert_exporter": "python",
   "pygments_lexer": "ipython3",
   "version": "3.9.12"
  }
 },
 "nbformat": 4,
 "nbformat_minor": 5
}
