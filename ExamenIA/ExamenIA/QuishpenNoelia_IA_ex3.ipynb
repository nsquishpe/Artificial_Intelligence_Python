{
 "cells": [
  {
   "cell_type": "markdown",
   "metadata": {},
   "source": [
    "###  PUCE - Inteligencia Artificial   -   \n",
    "###  Examen 3 - parte práctica - regresión lineal \n",
    "### Estudiante:  Noelia Quishpe\n",
    "### Use sus apuntes.  Tiempo disponible: 55  minutos"
   ]
  },
  {
   "cell_type": "markdown",
   "metadata": {},
   "source": [
    "### 1.  Importe la librería pandas y lea los datos LifeExpectancyData.csv y muestre los 6 primeros datos (5p) "
   ]
  },
  {
   "cell_type": "markdown",
   "metadata": {},
   "source": [
    "Librerías a utilizar"
   ]
  },
  {
   "cell_type": "code",
   "execution_count": 1,
   "metadata": {},
   "outputs": [],
   "source": [
    "import numpy as np\n",
    "import pandas as pd\n",
    "import matplotlib.pyplot as plt\n",
    "\n",
    "# librerías de scikit-learn\n",
    "from sklearn import datasets, linear_model\n",
    "from sklearn.preprocessing import PolynomialFeatures\n",
    "from sklearn.model_selection import train_test_split\n",
    "\n",
    "# importamos librerías para calcular las métricas\n",
    "from sklearn.metrics import mean_squared_error, r2_score, mean_absolute_error,median_absolute_error\n",
    "from sklearn.model_selection import cross_val_score"
   ]
  },
  {
   "cell_type": "markdown",
   "metadata": {},
   "source": [
    "Lectura y muestra de los 6 primeros datos"
   ]
  },
  {
   "cell_type": "code",
   "execution_count": 3,
   "metadata": {},
   "outputs": [
    {
     "data": {
      "text/html": [
       "<div>\n",
       "<style scoped>\n",
       "    .dataframe tbody tr th:only-of-type {\n",
       "        vertical-align: middle;\n",
       "    }\n",
       "\n",
       "    .dataframe tbody tr th {\n",
       "        vertical-align: top;\n",
       "    }\n",
       "\n",
       "    .dataframe thead th {\n",
       "        text-align: right;\n",
       "    }\n",
       "</style>\n",
       "<table border=\"1\" class=\"dataframe\">\n",
       "  <thead>\n",
       "    <tr style=\"text-align: right;\">\n",
       "      <th></th>\n",
       "      <th>Country</th>\n",
       "      <th>Year</th>\n",
       "      <th>Status</th>\n",
       "      <th>Life_expectancy</th>\n",
       "      <th>Adult_Mortality</th>\n",
       "      <th>infant_deaths</th>\n",
       "      <th>Alcohol</th>\n",
       "      <th>percentage_expenditure</th>\n",
       "      <th>Hepatitis_B</th>\n",
       "      <th>Measles</th>\n",
       "      <th>...</th>\n",
       "      <th>Polio</th>\n",
       "      <th>Total_expenditure</th>\n",
       "      <th>Diphtheria</th>\n",
       "      <th>HIV_AIDS</th>\n",
       "      <th>GDP</th>\n",
       "      <th>Population</th>\n",
       "      <th>thinness_1_19_years</th>\n",
       "      <th>thinness_5_9_years</th>\n",
       "      <th>Income_composition_resources</th>\n",
       "      <th>Schooling</th>\n",
       "    </tr>\n",
       "  </thead>\n",
       "  <tbody>\n",
       "    <tr>\n",
       "      <th>0</th>\n",
       "      <td>Afghanistan</td>\n",
       "      <td>2015.0</td>\n",
       "      <td>Developing</td>\n",
       "      <td>65.0</td>\n",
       "      <td>263.0</td>\n",
       "      <td>62.0</td>\n",
       "      <td>0.01</td>\n",
       "      <td>71.279624</td>\n",
       "      <td>65.0</td>\n",
       "      <td>1154.0</td>\n",
       "      <td>...</td>\n",
       "      <td>6.0</td>\n",
       "      <td>8.16</td>\n",
       "      <td>65.0</td>\n",
       "      <td>0.1</td>\n",
       "      <td>584.259210</td>\n",
       "      <td>33736494.0</td>\n",
       "      <td>17.2</td>\n",
       "      <td>17.3</td>\n",
       "      <td>0.479</td>\n",
       "      <td>10.1</td>\n",
       "    </tr>\n",
       "    <tr>\n",
       "      <th>1</th>\n",
       "      <td>Afghanistan</td>\n",
       "      <td>2014.0</td>\n",
       "      <td>Developing</td>\n",
       "      <td>59.9</td>\n",
       "      <td>271.0</td>\n",
       "      <td>64.0</td>\n",
       "      <td>0.01</td>\n",
       "      <td>73.523582</td>\n",
       "      <td>62.0</td>\n",
       "      <td>492.0</td>\n",
       "      <td>...</td>\n",
       "      <td>58.0</td>\n",
       "      <td>8.18</td>\n",
       "      <td>62.0</td>\n",
       "      <td>0.1</td>\n",
       "      <td>612.696514</td>\n",
       "      <td>327582.0</td>\n",
       "      <td>17.5</td>\n",
       "      <td>17.5</td>\n",
       "      <td>0.476</td>\n",
       "      <td>10.0</td>\n",
       "    </tr>\n",
       "    <tr>\n",
       "      <th>2</th>\n",
       "      <td>Afghanistan</td>\n",
       "      <td>2013.0</td>\n",
       "      <td>Developing</td>\n",
       "      <td>59.9</td>\n",
       "      <td>268.0</td>\n",
       "      <td>66.0</td>\n",
       "      <td>0.01</td>\n",
       "      <td>73.219243</td>\n",
       "      <td>64.0</td>\n",
       "      <td>430.0</td>\n",
       "      <td>...</td>\n",
       "      <td>62.0</td>\n",
       "      <td>8.13</td>\n",
       "      <td>64.0</td>\n",
       "      <td>0.1</td>\n",
       "      <td>631.744976</td>\n",
       "      <td>31731688.0</td>\n",
       "      <td>17.7</td>\n",
       "      <td>17.7</td>\n",
       "      <td>0.470</td>\n",
       "      <td>9.9</td>\n",
       "    </tr>\n",
       "    <tr>\n",
       "      <th>3</th>\n",
       "      <td>Afghanistan</td>\n",
       "      <td>2012.0</td>\n",
       "      <td>Developing</td>\n",
       "      <td>59.5</td>\n",
       "      <td>272.0</td>\n",
       "      <td>69.0</td>\n",
       "      <td>0.01</td>\n",
       "      <td>78.184215</td>\n",
       "      <td>67.0</td>\n",
       "      <td>2787.0</td>\n",
       "      <td>...</td>\n",
       "      <td>67.0</td>\n",
       "      <td>8.52</td>\n",
       "      <td>67.0</td>\n",
       "      <td>0.1</td>\n",
       "      <td>669.959000</td>\n",
       "      <td>3696958.0</td>\n",
       "      <td>17.9</td>\n",
       "      <td>18.0</td>\n",
       "      <td>0.463</td>\n",
       "      <td>9.8</td>\n",
       "    </tr>\n",
       "    <tr>\n",
       "      <th>4</th>\n",
       "      <td>Afghanistan</td>\n",
       "      <td>2011.0</td>\n",
       "      <td>Developing</td>\n",
       "      <td>59.2</td>\n",
       "      <td>275.0</td>\n",
       "      <td>71.0</td>\n",
       "      <td>0.01</td>\n",
       "      <td>7.097109</td>\n",
       "      <td>68.0</td>\n",
       "      <td>3013.0</td>\n",
       "      <td>...</td>\n",
       "      <td>68.0</td>\n",
       "      <td>7.87</td>\n",
       "      <td>68.0</td>\n",
       "      <td>0.1</td>\n",
       "      <td>63.537231</td>\n",
       "      <td>2978599.0</td>\n",
       "      <td>18.2</td>\n",
       "      <td>18.2</td>\n",
       "      <td>0.454</td>\n",
       "      <td>9.5</td>\n",
       "    </tr>\n",
       "    <tr>\n",
       "      <th>5</th>\n",
       "      <td>Afghanistan</td>\n",
       "      <td>2010.0</td>\n",
       "      <td>Developing</td>\n",
       "      <td>58.8</td>\n",
       "      <td>279.0</td>\n",
       "      <td>74.0</td>\n",
       "      <td>0.01</td>\n",
       "      <td>79.679367</td>\n",
       "      <td>66.0</td>\n",
       "      <td>1989.0</td>\n",
       "      <td>...</td>\n",
       "      <td>66.0</td>\n",
       "      <td>9.20</td>\n",
       "      <td>66.0</td>\n",
       "      <td>0.1</td>\n",
       "      <td>553.328940</td>\n",
       "      <td>2883167.0</td>\n",
       "      <td>18.4</td>\n",
       "      <td>18.4</td>\n",
       "      <td>0.448</td>\n",
       "      <td>9.2</td>\n",
       "    </tr>\n",
       "  </tbody>\n",
       "</table>\n",
       "<p>6 rows × 22 columns</p>\n",
       "</div>"
      ],
      "text/plain": [
       "       Country    Year      Status  Life_expectancy  Adult_Mortality  \\\n",
       "0  Afghanistan  2015.0  Developing             65.0            263.0   \n",
       "1  Afghanistan  2014.0  Developing             59.9            271.0   \n",
       "2  Afghanistan  2013.0  Developing             59.9            268.0   \n",
       "3  Afghanistan  2012.0  Developing             59.5            272.0   \n",
       "4  Afghanistan  2011.0  Developing             59.2            275.0   \n",
       "5  Afghanistan  2010.0  Developing             58.8            279.0   \n",
       "\n",
       "   infant_deaths  Alcohol  percentage_expenditure  Hepatitis_B  Measles  ...  \\\n",
       "0           62.0     0.01               71.279624         65.0   1154.0  ...   \n",
       "1           64.0     0.01               73.523582         62.0    492.0  ...   \n",
       "2           66.0     0.01               73.219243         64.0    430.0  ...   \n",
       "3           69.0     0.01               78.184215         67.0   2787.0  ...   \n",
       "4           71.0     0.01                7.097109         68.0   3013.0  ...   \n",
       "5           74.0     0.01               79.679367         66.0   1989.0  ...   \n",
       "\n",
       "   Polio  Total_expenditure  Diphtheria  HIV_AIDS         GDP  Population  \\\n",
       "0    6.0               8.16        65.0       0.1  584.259210  33736494.0   \n",
       "1   58.0               8.18        62.0       0.1  612.696514    327582.0   \n",
       "2   62.0               8.13        64.0       0.1  631.744976  31731688.0   \n",
       "3   67.0               8.52        67.0       0.1  669.959000   3696958.0   \n",
       "4   68.0               7.87        68.0       0.1   63.537231   2978599.0   \n",
       "5   66.0               9.20        66.0       0.1  553.328940   2883167.0   \n",
       "\n",
       "   thinness_1_19_years  thinness_5_9_years  Income_composition_resources  \\\n",
       "0                 17.2                17.3                         0.479   \n",
       "1                 17.5                17.5                         0.476   \n",
       "2                 17.7                17.7                         0.470   \n",
       "3                 17.9                18.0                         0.463   \n",
       "4                 18.2                18.2                         0.454   \n",
       "5                 18.4                18.4                         0.448   \n",
       "\n",
       "   Schooling  \n",
       "0       10.1  \n",
       "1       10.0  \n",
       "2        9.9  \n",
       "3        9.8  \n",
       "4        9.5  \n",
       "5        9.2  \n",
       "\n",
       "[6 rows x 22 columns]"
      ]
     },
     "execution_count": 3,
     "metadata": {},
     "output_type": "execute_result"
    }
   ],
   "source": [
    "pc = pd.read_csv('LifeExpectancyData.csv')\n",
    "pc.iloc[0:6]"
   ]
  },
  {
   "cell_type": "markdown",
   "metadata": {},
   "source": [
    "### 2.  Selecciones los datos del año 2010 y coloquelos en un dataframe ev2010, con las siguientes columnas: Country, Status, Life_expectancy, infant_deaths,thinness_1_19 years,Income_composition_resources,\tSchooling, imprima el tamaño del arreglo y las estadísticas  (9 puntos)"
   ]
  },
  {
   "cell_type": "markdown",
   "metadata": {},
   "source": [
    "Selección de datos"
   ]
  },
  {
   "cell_type": "code",
   "execution_count": 13,
   "metadata": {},
   "outputs": [
    {
     "data": {
      "text/html": [
       "<div>\n",
       "<style scoped>\n",
       "    .dataframe tbody tr th:only-of-type {\n",
       "        vertical-align: middle;\n",
       "    }\n",
       "\n",
       "    .dataframe tbody tr th {\n",
       "        vertical-align: top;\n",
       "    }\n",
       "\n",
       "    .dataframe thead th {\n",
       "        text-align: right;\n",
       "    }\n",
       "</style>\n",
       "<table border=\"1\" class=\"dataframe\">\n",
       "  <thead>\n",
       "    <tr style=\"text-align: right;\">\n",
       "      <th></th>\n",
       "      <th>Country</th>\n",
       "      <th>Status</th>\n",
       "      <th>Life_expectancy</th>\n",
       "      <th>infant_deaths</th>\n",
       "      <th>thinness_1_19_years</th>\n",
       "      <th>Income_composition_resources</th>\n",
       "      <th>Schooling</th>\n",
       "    </tr>\n",
       "  </thead>\n",
       "  <tbody>\n",
       "    <tr>\n",
       "      <th>5</th>\n",
       "      <td>Afghanistan</td>\n",
       "      <td>Developing</td>\n",
       "      <td>58.8</td>\n",
       "      <td>74.0</td>\n",
       "      <td>18.4</td>\n",
       "      <td>0.448</td>\n",
       "      <td>9.2</td>\n",
       "    </tr>\n",
       "    <tr>\n",
       "      <th>21</th>\n",
       "      <td>Albania</td>\n",
       "      <td>Developing</td>\n",
       "      <td>76.2</td>\n",
       "      <td>1.0</td>\n",
       "      <td>1.4</td>\n",
       "      <td>0.725</td>\n",
       "      <td>12.5</td>\n",
       "    </tr>\n",
       "    <tr>\n",
       "      <th>37</th>\n",
       "      <td>Algeria</td>\n",
       "      <td>Developing</td>\n",
       "      <td>74.7</td>\n",
       "      <td>21.0</td>\n",
       "      <td>5.9</td>\n",
       "      <td>0.714</td>\n",
       "      <td>13.6</td>\n",
       "    </tr>\n",
       "    <tr>\n",
       "      <th>53</th>\n",
       "      <td>Angola</td>\n",
       "      <td>Developing</td>\n",
       "      <td>49.6</td>\n",
       "      <td>78.0</td>\n",
       "      <td>9.1</td>\n",
       "      <td>0.488</td>\n",
       "      <td>9.0</td>\n",
       "    </tr>\n",
       "    <tr>\n",
       "      <th>69</th>\n",
       "      <td>Antigua and Barbuda</td>\n",
       "      <td>Developing</td>\n",
       "      <td>75.6</td>\n",
       "      <td>0.0</td>\n",
       "      <td>3.3</td>\n",
       "      <td>0.783</td>\n",
       "      <td>14.1</td>\n",
       "    </tr>\n",
       "  </tbody>\n",
       "</table>\n",
       "</div>"
      ],
      "text/plain": [
       "                Country      Status  Life_expectancy  infant_deaths  \\\n",
       "5           Afghanistan  Developing             58.8           74.0   \n",
       "21              Albania  Developing             76.2            1.0   \n",
       "37              Algeria  Developing             74.7           21.0   \n",
       "53               Angola  Developing             49.6           78.0   \n",
       "69  Antigua and Barbuda  Developing             75.6            0.0   \n",
       "\n",
       "    thinness_1_19_years  Income_composition_resources  Schooling  \n",
       "5                  18.4                         0.448        9.2  \n",
       "21                  1.4                         0.725       12.5  \n",
       "37                  5.9                         0.714       13.6  \n",
       "53                  9.1                         0.488        9.0  \n",
       "69                  3.3                         0.783       14.1  "
      ]
     },
     "execution_count": 13,
     "metadata": {},
     "output_type": "execute_result"
    }
   ],
   "source": [
    "pc2010 = pc[(pc[\"Year\"] == 2010)] \n",
    "pc2010= pc2010.iloc[:,[0,2,3,5,18,20,21 ]]\n",
    "pc2010.head()"
   ]
  },
  {
   "cell_type": "markdown",
   "metadata": {},
   "source": [
    "Tamaño del arreglo"
   ]
  },
  {
   "cell_type": "code",
   "execution_count": 14,
   "metadata": {},
   "outputs": [
    {
     "name": "stdout",
     "output_type": "stream",
     "text": [
      "Tamaño del arreglo de datos: registros y campos:  (173, 7)\n"
     ]
    }
   ],
   "source": [
    "print('Tamaño del arreglo de datos: registros y campos: ', pc2010.shape)"
   ]
  },
  {
   "cell_type": "markdown",
   "metadata": {},
   "source": [
    "Estadísticas"
   ]
  },
  {
   "cell_type": "code",
   "execution_count": 15,
   "metadata": {},
   "outputs": [
    {
     "data": {
      "text/html": [
       "<div>\n",
       "<style scoped>\n",
       "    .dataframe tbody tr th:only-of-type {\n",
       "        vertical-align: middle;\n",
       "    }\n",
       "\n",
       "    .dataframe tbody tr th {\n",
       "        vertical-align: top;\n",
       "    }\n",
       "\n",
       "    .dataframe thead th {\n",
       "        text-align: right;\n",
       "    }\n",
       "</style>\n",
       "<table border=\"1\" class=\"dataframe\">\n",
       "  <thead>\n",
       "    <tr style=\"text-align: right;\">\n",
       "      <th></th>\n",
       "      <th>Life_expectancy</th>\n",
       "      <th>infant_deaths</th>\n",
       "      <th>thinness_1_19_years</th>\n",
       "      <th>Income_composition_resources</th>\n",
       "      <th>Schooling</th>\n",
       "    </tr>\n",
       "  </thead>\n",
       "  <tbody>\n",
       "    <tr>\n",
       "      <th>count</th>\n",
       "      <td>173.000000</td>\n",
       "      <td>173.000000</td>\n",
       "      <td>171.000000</td>\n",
       "      <td>173.000000</td>\n",
       "      <td>173.000000</td>\n",
       "    </tr>\n",
       "    <tr>\n",
       "      <th>mean</th>\n",
       "      <td>70.156647</td>\n",
       "      <td>26.774566</td>\n",
       "      <td>4.728655</td>\n",
       "      <td>0.655197</td>\n",
       "      <td>12.446821</td>\n",
       "    </tr>\n",
       "    <tr>\n",
       "      <th>std</th>\n",
       "      <td>9.090304</td>\n",
       "      <td>105.548022</td>\n",
       "      <td>4.273867</td>\n",
       "      <td>0.185699</td>\n",
       "      <td>3.045804</td>\n",
       "    </tr>\n",
       "    <tr>\n",
       "      <th>min</th>\n",
       "      <td>36.300000</td>\n",
       "      <td>0.000000</td>\n",
       "      <td>0.100000</td>\n",
       "      <td>0.000000</td>\n",
       "      <td>0.000000</td>\n",
       "    </tr>\n",
       "    <tr>\n",
       "      <th>25%</th>\n",
       "      <td>64.300000</td>\n",
       "      <td>0.000000</td>\n",
       "      <td>1.600000</td>\n",
       "      <td>0.523000</td>\n",
       "      <td>10.500000</td>\n",
       "    </tr>\n",
       "    <tr>\n",
       "      <th>50%</th>\n",
       "      <td>72.800000</td>\n",
       "      <td>3.000000</td>\n",
       "      <td>3.300000</td>\n",
       "      <td>0.700000</td>\n",
       "      <td>12.700000</td>\n",
       "    </tr>\n",
       "    <tr>\n",
       "      <th>75%</th>\n",
       "      <td>75.600000</td>\n",
       "      <td>20.000000</td>\n",
       "      <td>7.150000</td>\n",
       "      <td>0.788000</td>\n",
       "      <td>14.400000</td>\n",
       "    </tr>\n",
       "    <tr>\n",
       "      <th>max</th>\n",
       "      <td>89.000000</td>\n",
       "      <td>1200.000000</td>\n",
       "      <td>27.000000</td>\n",
       "      <td>0.936000</td>\n",
       "      <td>20.300000</td>\n",
       "    </tr>\n",
       "  </tbody>\n",
       "</table>\n",
       "</div>"
      ],
      "text/plain": [
       "       Life_expectancy  infant_deaths  thinness_1_19_years  \\\n",
       "count       173.000000     173.000000           171.000000   \n",
       "mean         70.156647      26.774566             4.728655   \n",
       "std           9.090304     105.548022             4.273867   \n",
       "min          36.300000       0.000000             0.100000   \n",
       "25%          64.300000       0.000000             1.600000   \n",
       "50%          72.800000       3.000000             3.300000   \n",
       "75%          75.600000      20.000000             7.150000   \n",
       "max          89.000000    1200.000000            27.000000   \n",
       "\n",
       "       Income_composition_resources   Schooling  \n",
       "count                    173.000000  173.000000  \n",
       "mean                       0.655197   12.446821  \n",
       "std                        0.185699    3.045804  \n",
       "min                        0.000000    0.000000  \n",
       "25%                        0.523000   10.500000  \n",
       "50%                        0.700000   12.700000  \n",
       "75%                        0.788000   14.400000  \n",
       "max                        0.936000   20.300000  "
      ]
     },
     "execution_count": 15,
     "metadata": {},
     "output_type": "execute_result"
    }
   ],
   "source": [
    "pc2010.describe()"
   ]
  },
  {
   "cell_type": "markdown",
   "metadata": {},
   "source": [
    "### 3. De los datos del 2010, encuentre el modelo lineal de Life_expectancy = theta0 + theta1*Schooling. a) Separe los datos en entrenamiento y prueba, b) Grafique los datos y el modelo  c) coloque los nombres respectivos y el tipo de dato (entrenamiento y prueba)\n",
    "### 15 puntos\n",
    "Nota:  Observe que para que los algoritmos corran el arreglo x e y debe ser (nfilas, 1), recuerde que la estructura del dataframe es  [ [] ],es decir debe colocar las columnas que necesita enntre []  "
   ]
  },
  {
   "cell_type": "code",
   "execution_count": 56,
   "metadata": {},
   "outputs": [
    {
     "data": {
      "image/png": "[encoded data removed]",
      "text/plain": [
       "<Figure size 432x288 with 1 Axes>"
      ]
     },
     "metadata": {
      "needs_background": "light"
     },
     "output_type": "display_data"
    }
   ],
   "source": [
    "#Scholing\n",
    "x= pc2010.iloc[:,[6]];\n",
    "\n",
    "#Life expectancy\n",
    "y= pc2010.iloc[:,[2]];\n",
    "\n",
    "#Separo datos de entrenamiento y de prueba\n",
    "\n",
    "x_train, x_test, y_train, y_test = train_test_split(x, y, random_state=0)\n",
    "\n",
    "#Ajuste del modelo\n",
    "lmd   = linear_model.LinearRegression();\n",
    "lmd.fit(x_train,y_train);\n",
    "\n",
    "aux =  lmd.predict(x)\n",
    "arr = x.to_numpy()\n",
    "\n",
    "#Gráfico\n",
    "plt.figure()\n",
    "plt.scatter(x_train, y_train, label='datos de entrenamiento')\n",
    "plt.scatter(x_test, y_test, label='datos de prueba')\n",
    "plt.plot(arr,aux,label='modelo lineal -de predicción- ');\n",
    "plt.legend(loc=2);"
   ]
  },
  {
   "cell_type": "markdown",
   "metadata": {},
   "source": [
    "###  4.  Calcule las métricas para toda la data, de entrenamiento y prueba, imprimalos con formato de 2 decimales, indicando claramente de que error se trata y que grupo de datos (8 puntos) "
   ]
  },
  {
   "cell_type": "markdown",
   "metadata": {},
   "source": [
    "Datos entrenamiento"
   ]
  },
  {
   "cell_type": "code",
   "execution_count": 57,
   "metadata": {},
   "outputs": [
    {
     "name": "stdout",
     "output_type": "stream",
     "text": [
      "Error medio cuadrático         :            29.20\n",
      "Error medio absoluto           :             4.22\n",
      "Error mediano absoluto         :             3.41\n",
      "coeficiente de determinación R2:             0.60\n"
     ]
    }
   ],
   "source": [
    "#Métricas datos de entrenamiento \n",
    "\n",
    "yPredm = lmd.predict(x_train)\n",
    "\n",
    "mse_mlm = mean_squared_error(y_train, yPredm)\n",
    "mae_mlm = mean_absolute_error(y_train, yPredm)\n",
    "mdae_mlm = median_absolute_error(y_train, yPredm)\n",
    "r2_mlm   = r2_score(y_train, yPredm)  \n",
    "\n",
    "print('Error medio cuadrático         : %16.2f' %mse_mlm)\n",
    "print('Error medio absoluto           : %16.2f' %mae_mlm)\n",
    "print('Error mediano absoluto         : %16.2f' %mdae_mlm)\n",
    "print('coeficiente de determinación R2: %16.2f' %r2_mlm)"
   ]
  },
  {
   "cell_type": "markdown",
   "metadata": {},
   "source": [
    "Datos de prueba"
   ]
  },
  {
   "cell_type": "code",
   "execution_count": 58,
   "metadata": {},
   "outputs": [
    {
     "name": "stdout",
     "output_type": "stream",
     "text": [
      "Error medio cuadrático         :            40.24\n",
      "Error medio absoluto           :             4.54\n",
      "Error mediano absoluto         :             3.52\n",
      "coeficiente de determinación R2:             0.63\n"
     ]
    }
   ],
   "source": [
    "#Métricas datos de prueba\n",
    "\n",
    "yPredp = lmd.predict(x_test)\n",
    "\n",
    "mse_mlpm = mean_squared_error(y_test, yPredp)   \n",
    "mae_mlpm = mean_absolute_error(y_test, yPredp)\n",
    "mdae_mlpm = median_absolute_error(y_test, yPredp)\n",
    "r2_mlpm   = r2_score(y_test, yPredp)  \n",
    "\n",
    "print('Error medio cuadrático         : %16.2f' %mse_mlpm)\n",
    "print('Error medio absoluto           : %16.2f' %mae_mlpm)\n",
    "print('Error mediano absoluto         : %16.2f' %mdae_mlpm)\n",
    "print('coeficiente de determinación R2: %16.2f' %r2_mlpm)"
   ]
  },
  {
   "cell_type": "markdown",
   "metadata": {},
   "source": [
    "### 5.  Realice un gráfico de dispersión de los anteriores con el modelo encontrado, pero en este caso muestre con colores diferentes el estado (paises desarrollados y en desarrollo), coloque la leyenda y titulos al gráfico (8 p) "
   ]
  },
  {
   "cell_type": "code",
   "execution_count": 68,
   "metadata": {},
   "outputs": [
    {
     "data": {
      "text/plain": [
       "<AxesSubplot:xlabel='Schooling', ylabel='Life_expectancy'>"
      ]
     },
     "execution_count": 68,
     "metadata": {},
     "output_type": "execute_result"
    },
    {
     "data": {
      "image/png": "[encoded data removed]",
      "text/plain": [
       "<Figure size 432x288 with 1 Axes>"
      ]
     },
     "metadata": {},
     "output_type": "display_data"
    }
   ],
   "source": [
    "import seaborn\n",
    "seaborn.set(style='whitegrid')\n",
    "fmri = seaborn.load_dataset(\"fmri\")\n",
    " \n",
    "seaborn.scatterplot(x=\"Schooling\",\n",
    "                    y=\"Life_expectancy\",\n",
    "                    hue=\"Status\",\n",
    "                    data=pc2010)"
   ]
  },
  {
   "cell_type": "markdown",
   "metadata": {},
   "source": [
    "###   6. Argumente ¿Cuál es el impacto de la escolarización en la esperanza de vida de los seres humanos?(5 puntos)"
   ]
  },
  {
   "cell_type": "markdown",
   "metadata": {},
   "source": [
    "Posterior a realizar el respectivo análisis del problema, puedo argumentar que el impacto de la escolarización en la esperanza de vida de los seres humanos es alto y varía de acuerdo al estado del país, se puedo observar que los países en desarrollo y desarrollados poseen una alta esperanza de vida y está irá en avance de acuerdo a como estos van desarrollandose en la sociedad."
   ]
  },
  {
   "cell_type": "code",
   "execution_count": null,
   "metadata": {},
   "outputs": [],
   "source": []
  }
 ],
 "metadata": {
  "kernelspec": {
   "display_name": "Python 3 (ipykernel)",
   "language": "python",
   "name": "python3"
  },
  "language_info": {
   "codemirror_mode": {
    "name": "ipython",
    "version": 3
   },
   "file_extension": ".py",
   "mimetype": "text/x-python",
   "name": "python",
   "nbconvert_exporter": "python",
   "pygments_lexer": "ipython3",
   "version": "3.9.12"
  }
 },
 "nbformat": 4,
 "nbformat_minor": 4
}
