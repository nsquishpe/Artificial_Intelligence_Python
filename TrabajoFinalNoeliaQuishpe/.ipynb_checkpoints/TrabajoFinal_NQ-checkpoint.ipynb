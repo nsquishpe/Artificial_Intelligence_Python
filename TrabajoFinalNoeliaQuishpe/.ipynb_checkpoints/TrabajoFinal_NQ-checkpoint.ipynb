{
 "cells": [
  {
   "cell_type": "markdown",
   "metadata": {},
   "source": [
    "<h1>\n",
    "<span style=\"color:blue\">Noelia Quishpe</span>\n",
    "</h1>"
   ]
  },
  {
   "cell_type": "markdown",
   "metadata": {},
   "source": [
    "### IA - Estudio de caso:\n",
    "\n",
    "A usted se la ha pedido que desarrolle una aplicación que pueda reconocer la actividad que está realizando una persona con los datos tomados por el acelerógrafo de su celular. Parte del equipo ya realizó la recolección y extracción de las características para cinco diferentes actividades físicas humanas: Sentarse, estar de pie, caminar, correr y bailar.  Al final del trabajo, se quedaron con 60 características por observación, extraídas de la aceleración de las mediciones de los sensores de acelerómetro de varios teléfonos inteligentes. A usted se le entrega aproximadamente 25000 registros con 60 características incluido el tipo de actividad y se le pide que proponga una solución para que reconozca la actividad. \n",
    "\n",
    "1.\tUsted hará una revisión de los datos para familiarizarse con el problema y la data. ¿qué análisis realizaría?\n",
    "2.\tPor ahora usted va a trabajar con los datos que le han facilitado.  Qué algoritmos usaría y cómo se asegura que los resultados son confiables y que debe hacer para confiar en ellos, explique \n",
    "3.\tExplique cómo implementa la aplicación para que el sistema pueda reconocer la actividad física, explique por pasos que necesita y cómo implementarlo.\n",
    "4.\tUsted quiere asegurarse que todas las características entregadas están bien, pues le parece demasiadas y espera disminuir la dimensión. ¿qué puede usar? \n",
    "5.\tSi solo le dieran los datos sin las cinco etiquetas (bailar, correr, ..) ¿qué haría en este caso, cómo proceder?\n",
    "\n",
    "Los datos están en el archivo ActividadHumana.xlsx\n",
    "\n",
    "\n",
    "#### complete el siguiente cuaderno, usando las indicaciones que encontrará en el mismo."
   ]
  },
  {
   "cell_type": "code",
   "execution_count": 175,
   "metadata": {},
   "outputs": [
    {
     "name": "stdout",
     "output_type": "stream",
     "text": [
      "En la base existen 24075 registros con 62 variables\n"
     ]
    },
    {
     "data": {
      "text/html": [
       "<div>\n",
       "<style scoped>\n",
       "    .dataframe tbody tr th:only-of-type {\n",
       "        vertical-align: middle;\n",
       "    }\n",
       "\n",
       "    .dataframe tbody tr th {\n",
       "        vertical-align: top;\n",
       "    }\n",
       "\n",
       "    .dataframe thead th {\n",
       "        text-align: right;\n",
       "    }\n",
       "</style>\n",
       "<table border=\"1\" class=\"dataframe\">\n",
       "  <thead>\n",
       "    <tr style=\"text-align: right;\">\n",
       "      <th></th>\n",
       "      <th>TotalAccXMean</th>\n",
       "      <th>TotalAccYMean</th>\n",
       "      <th>TotalAccZMean</th>\n",
       "      <th>BodyAccXRMS</th>\n",
       "      <th>BodyAccYRMS</th>\n",
       "      <th>BodyAccZRMS</th>\n",
       "      <th>BodyAccXCovZeroValue</th>\n",
       "      <th>BodyAccXCovFirstPos</th>\n",
       "      <th>BodyAccXCovFirstValue</th>\n",
       "      <th>BodyAccYCovZeroValue</th>\n",
       "      <th>...</th>\n",
       "      <th>BodyAccXPowerBand2</th>\n",
       "      <th>BodyAccXPowerBand3</th>\n",
       "      <th>BodyAccYPowerBand1</th>\n",
       "      <th>BodyAccYPowerBand2</th>\n",
       "      <th>BodyAccYPowerBand3</th>\n",
       "      <th>BodyAccZPowerBand1</th>\n",
       "      <th>BodyAccZPowerBand2</th>\n",
       "      <th>BodyAccZPowerBand3</th>\n",
       "      <th>Actividad</th>\n",
       "      <th>label</th>\n",
       "    </tr>\n",
       "  </thead>\n",
       "  <tbody>\n",
       "    <tr>\n",
       "      <th>0</th>\n",
       "      <td>0.764034</td>\n",
       "      <td>0.585142</td>\n",
       "      <td>-0.256940</td>\n",
       "      <td>0.109121</td>\n",
       "      <td>0.083456</td>\n",
       "      <td>0.036783</td>\n",
       "      <td>0.381036</td>\n",
       "      <td>-1.0</td>\n",
       "      <td>0.067645</td>\n",
       "      <td>0.222877</td>\n",
       "      <td>...</td>\n",
       "      <td>2.304699</td>\n",
       "      <td>0.000411</td>\n",
       "      <td>1.497160</td>\n",
       "      <td>1.348245</td>\n",
       "      <td>0.000273</td>\n",
       "      <td>0.291051</td>\n",
       "      <td>0.261600</td>\n",
       "      <td>0.000049</td>\n",
       "      <td>1</td>\n",
       "      <td>sentado</td>\n",
       "    </tr>\n",
       "    <tr>\n",
       "      <th>1</th>\n",
       "      <td>0.764064</td>\n",
       "      <td>0.585018</td>\n",
       "      <td>-0.256942</td>\n",
       "      <td>0.109209</td>\n",
       "      <td>0.083319</td>\n",
       "      <td>0.036554</td>\n",
       "      <td>0.381653</td>\n",
       "      <td>-1.0</td>\n",
       "      <td>0.066487</td>\n",
       "      <td>0.222145</td>\n",
       "      <td>...</td>\n",
       "      <td>2.310154</td>\n",
       "      <td>0.000459</td>\n",
       "      <td>1.485622</td>\n",
       "      <td>1.350188</td>\n",
       "      <td>0.000243</td>\n",
       "      <td>0.284165</td>\n",
       "      <td>0.261658</td>\n",
       "      <td>0.000052</td>\n",
       "      <td>1</td>\n",
       "      <td>sentado</td>\n",
       "    </tr>\n",
       "    <tr>\n",
       "      <th>2</th>\n",
       "      <td>0.764010</td>\n",
       "      <td>0.585013</td>\n",
       "      <td>-0.257079</td>\n",
       "      <td>0.108962</td>\n",
       "      <td>0.083465</td>\n",
       "      <td>0.036516</td>\n",
       "      <td>0.379924</td>\n",
       "      <td>-1.0</td>\n",
       "      <td>0.066038</td>\n",
       "      <td>0.222926</td>\n",
       "      <td>...</td>\n",
       "      <td>2.314777</td>\n",
       "      <td>0.000418</td>\n",
       "      <td>1.499559</td>\n",
       "      <td>1.346296</td>\n",
       "      <td>0.000268</td>\n",
       "      <td>0.287182</td>\n",
       "      <td>0.257530</td>\n",
       "      <td>0.000045</td>\n",
       "      <td>1</td>\n",
       "      <td>sentado</td>\n",
       "    </tr>\n",
       "    <tr>\n",
       "      <th>3</th>\n",
       "      <td>0.764093</td>\n",
       "      <td>0.584778</td>\n",
       "      <td>-0.257286</td>\n",
       "      <td>0.109039</td>\n",
       "      <td>0.083582</td>\n",
       "      <td>0.036911</td>\n",
       "      <td>0.380466</td>\n",
       "      <td>-1.0</td>\n",
       "      <td>0.066519</td>\n",
       "      <td>0.223550</td>\n",
       "      <td>...</td>\n",
       "      <td>2.303789</td>\n",
       "      <td>0.000408</td>\n",
       "      <td>1.497448</td>\n",
       "      <td>1.356222</td>\n",
       "      <td>0.000264</td>\n",
       "      <td>0.291062</td>\n",
       "      <td>0.265375</td>\n",
       "      <td>0.000052</td>\n",
       "      <td>1</td>\n",
       "      <td>sentado</td>\n",
       "    </tr>\n",
       "    <tr>\n",
       "      <th>4</th>\n",
       "      <td>0.764137</td>\n",
       "      <td>0.584614</td>\n",
       "      <td>-0.257317</td>\n",
       "      <td>0.109041</td>\n",
       "      <td>0.083301</td>\n",
       "      <td>0.036660</td>\n",
       "      <td>0.380481</td>\n",
       "      <td>-1.0</td>\n",
       "      <td>0.066725</td>\n",
       "      <td>0.222048</td>\n",
       "      <td>...</td>\n",
       "      <td>2.307175</td>\n",
       "      <td>0.000464</td>\n",
       "      <td>1.493084</td>\n",
       "      <td>1.341705</td>\n",
       "      <td>0.000243</td>\n",
       "      <td>0.287135</td>\n",
       "      <td>0.261906</td>\n",
       "      <td>0.000048</td>\n",
       "      <td>1</td>\n",
       "      <td>sentado</td>\n",
       "    </tr>\n",
       "  </tbody>\n",
       "</table>\n",
       "<p>5 rows × 62 columns</p>\n",
       "</div>"
      ],
      "text/plain": [
       "   TotalAccXMean  TotalAccYMean  TotalAccZMean  BodyAccXRMS  BodyAccYRMS  \\\n",
       "0       0.764034       0.585142      -0.256940     0.109121     0.083456   \n",
       "1       0.764064       0.585018      -0.256942     0.109209     0.083319   \n",
       "2       0.764010       0.585013      -0.257079     0.108962     0.083465   \n",
       "3       0.764093       0.584778      -0.257286     0.109039     0.083582   \n",
       "4       0.764137       0.584614      -0.257317     0.109041     0.083301   \n",
       "\n",
       "   BodyAccZRMS  BodyAccXCovZeroValue  BodyAccXCovFirstPos  \\\n",
       "0     0.036783              0.381036                 -1.0   \n",
       "1     0.036554              0.381653                 -1.0   \n",
       "2     0.036516              0.379924                 -1.0   \n",
       "3     0.036911              0.380466                 -1.0   \n",
       "4     0.036660              0.380481                 -1.0   \n",
       "\n",
       "   BodyAccXCovFirstValue  BodyAccYCovZeroValue  ...  BodyAccXPowerBand2  \\\n",
       "0               0.067645              0.222877  ...            2.304699   \n",
       "1               0.066487              0.222145  ...            2.310154   \n",
       "2               0.066038              0.222926  ...            2.314777   \n",
       "3               0.066519              0.223550  ...            2.303789   \n",
       "4               0.066725              0.222048  ...            2.307175   \n",
       "\n",
       "   BodyAccXPowerBand3  BodyAccYPowerBand1  BodyAccYPowerBand2  \\\n",
       "0            0.000411            1.497160            1.348245   \n",
       "1            0.000459            1.485622            1.350188   \n",
       "2            0.000418            1.499559            1.346296   \n",
       "3            0.000408            1.497448            1.356222   \n",
       "4            0.000464            1.493084            1.341705   \n",
       "\n",
       "   BodyAccYPowerBand3  BodyAccZPowerBand1  BodyAccZPowerBand2  \\\n",
       "0            0.000273            0.291051            0.261600   \n",
       "1            0.000243            0.284165            0.261658   \n",
       "2            0.000268            0.287182            0.257530   \n",
       "3            0.000264            0.291062            0.265375   \n",
       "4            0.000243            0.287135            0.261906   \n",
       "\n",
       "   BodyAccZPowerBand3  Actividad    label  \n",
       "0            0.000049          1  sentado  \n",
       "1            0.000052          1  sentado  \n",
       "2            0.000045          1  sentado  \n",
       "3            0.000052          1  sentado  \n",
       "4            0.000048          1  sentado  \n",
       "\n",
       "[5 rows x 62 columns]"
      ]
     },
     "execution_count": 175,
     "metadata": {},
     "output_type": "execute_result"
    }
   ],
   "source": [
    "# Importamos todas las librerías que se necesitan. \n",
    "\n",
    "import pandas as pd\n",
    "import numpy  as np\n",
    "\n",
    "x_ah = pd.read_excel('ActividadHumanas.xlsx',sheet_name=3);\n",
    "print('En la base existen %d registros con %d variables'  %(x_ah.shape[0], x_ah.shape[1]))\n",
    "x_ah.head()"
   ]
  },
  {
   "cell_type": "code",
   "execution_count": 21,
   "metadata": {},
   "outputs": [
    {
     "data": {
      "text/html": [
       "<div>\n",
       "<style scoped>\n",
       "    .dataframe tbody tr th:only-of-type {\n",
       "        vertical-align: middle;\n",
       "    }\n",
       "\n",
       "    .dataframe tbody tr th {\n",
       "        vertical-align: top;\n",
       "    }\n",
       "\n",
       "    .dataframe thead th {\n",
       "        text-align: right;\n",
       "    }\n",
       "</style>\n",
       "<table border=\"1\" class=\"dataframe\">\n",
       "  <thead>\n",
       "    <tr style=\"text-align: right;\">\n",
       "      <th></th>\n",
       "      <th>TotalAccXMean</th>\n",
       "      <th>TotalAccYMean</th>\n",
       "      <th>TotalAccZMean</th>\n",
       "      <th>BodyAccXRMS</th>\n",
       "      <th>BodyAccYRMS</th>\n",
       "      <th>BodyAccZRMS</th>\n",
       "      <th>BodyAccXCovZeroValue</th>\n",
       "      <th>BodyAccXCovFirstPos</th>\n",
       "      <th>BodyAccXCovFirstValue</th>\n",
       "      <th>BodyAccYCovZeroValue</th>\n",
       "      <th>...</th>\n",
       "      <th>BodyAccXPowerBand1</th>\n",
       "      <th>BodyAccXPowerBand2</th>\n",
       "      <th>BodyAccXPowerBand3</th>\n",
       "      <th>BodyAccYPowerBand1</th>\n",
       "      <th>BodyAccYPowerBand2</th>\n",
       "      <th>BodyAccYPowerBand3</th>\n",
       "      <th>BodyAccZPowerBand1</th>\n",
       "      <th>BodyAccZPowerBand2</th>\n",
       "      <th>BodyAccZPowerBand3</th>\n",
       "      <th>Actividad</th>\n",
       "    </tr>\n",
       "  </thead>\n",
       "  <tbody>\n",
       "    <tr>\n",
       "      <th>count</th>\n",
       "      <td>24075.000000</td>\n",
       "      <td>24075.000000</td>\n",
       "      <td>24075.000000</td>\n",
       "      <td>24075.000000</td>\n",
       "      <td>24075.000000</td>\n",
       "      <td>24075.000000</td>\n",
       "      <td>24075.000000</td>\n",
       "      <td>24075.000000</td>\n",
       "      <td>24075.000000</td>\n",
       "      <td>24075.000000</td>\n",
       "      <td>...</td>\n",
       "      <td>24075.000000</td>\n",
       "      <td>24075.000000</td>\n",
       "      <td>2.407500e+04</td>\n",
       "      <td>24075.000000</td>\n",
       "      <td>24075.000000</td>\n",
       "      <td>2.407500e+04</td>\n",
       "      <td>24075.000000</td>\n",
       "      <td>24075.000000</td>\n",
       "      <td>2.407500e+04</td>\n",
       "      <td>24075.000000</td>\n",
       "    </tr>\n",
       "    <tr>\n",
       "      <th>mean</th>\n",
       "      <td>0.056229</td>\n",
       "      <td>0.502560</td>\n",
       "      <td>-0.234221</td>\n",
       "      <td>0.193935</td>\n",
       "      <td>0.454387</td>\n",
       "      <td>0.225730</td>\n",
       "      <td>2.452598</td>\n",
       "      <td>-1.870147</td>\n",
       "      <td>0.275687</td>\n",
       "      <td>14.200608</td>\n",
       "      <td>...</td>\n",
       "      <td>4.016825</td>\n",
       "      <td>27.270168</td>\n",
       "      <td>1.532889e-02</td>\n",
       "      <td>15.246424</td>\n",
       "      <td>166.060988</td>\n",
       "      <td>2.880110e-02</td>\n",
       "      <td>6.225484</td>\n",
       "      <td>34.673391</td>\n",
       "      <td>1.513254e-02</td>\n",
       "      <td>2.640374</td>\n",
       "    </tr>\n",
       "    <tr>\n",
       "      <th>std</th>\n",
       "      <td>0.230120</td>\n",
       "      <td>0.744037</td>\n",
       "      <td>0.332261</td>\n",
       "      <td>0.197572</td>\n",
       "      <td>0.487146</td>\n",
       "      <td>0.221954</td>\n",
       "      <td>3.952824</td>\n",
       "      <td>0.740147</td>\n",
       "      <td>0.581050</td>\n",
       "      <td>23.129108</td>\n",
       "      <td>...</td>\n",
       "      <td>7.886574</td>\n",
       "      <td>45.400285</td>\n",
       "      <td>6.098391e-02</td>\n",
       "      <td>27.276542</td>\n",
       "      <td>276.975722</td>\n",
       "      <td>1.094213e-01</td>\n",
       "      <td>11.582839</td>\n",
       "      <td>62.387003</td>\n",
       "      <td>5.054392e-02</td>\n",
       "      <td>1.306205</td>\n",
       "    </tr>\n",
       "    <tr>\n",
       "      <th>min</th>\n",
       "      <td>-0.453039</td>\n",
       "      <td>-1.244913</td>\n",
       "      <td>-0.989318</td>\n",
       "      <td>0.001369</td>\n",
       "      <td>0.002445</td>\n",
       "      <td>0.000647</td>\n",
       "      <td>0.000000</td>\n",
       "      <td>-2.700000</td>\n",
       "      <td>-0.729147</td>\n",
       "      <td>0.000000</td>\n",
       "      <td>...</td>\n",
       "      <td>0.000115</td>\n",
       "      <td>0.000456</td>\n",
       "      <td>1.114640e-12</td>\n",
       "      <td>0.000890</td>\n",
       "      <td>0.001277</td>\n",
       "      <td>1.393132e-13</td>\n",
       "      <td>0.000010</td>\n",
       "      <td>0.000114</td>\n",
       "      <td>3.480691e-14</td>\n",
       "      <td>1.000000</td>\n",
       "    </tr>\n",
       "    <tr>\n",
       "      <th>25%</th>\n",
       "      <td>-0.096622</td>\n",
       "      <td>0.064795</td>\n",
       "      <td>-0.272453</td>\n",
       "      <td>0.028706</td>\n",
       "      <td>0.138740</td>\n",
       "      <td>0.028787</td>\n",
       "      <td>0.026368</td>\n",
       "      <td>-2.400000</td>\n",
       "      <td>0.002904</td>\n",
       "      <td>0.615960</td>\n",
       "      <td>...</td>\n",
       "      <td>0.171658</td>\n",
       "      <td>0.163245</td>\n",
       "      <td>2.396513e-05</td>\n",
       "      <td>2.978039</td>\n",
       "      <td>3.726014</td>\n",
       "      <td>3.074152e-04</td>\n",
       "      <td>0.151364</td>\n",
       "      <td>0.169131</td>\n",
       "      <td>1.942700e-05</td>\n",
       "      <td>2.000000</td>\n",
       "    </tr>\n",
       "    <tr>\n",
       "      <th>50%</th>\n",
       "      <td>-0.014897</td>\n",
       "      <td>0.941564</td>\n",
       "      <td>-0.094008</td>\n",
       "      <td>0.116871</td>\n",
       "      <td>0.145899</td>\n",
       "      <td>0.138094</td>\n",
       "      <td>0.437082</td>\n",
       "      <td>-2.200000</td>\n",
       "      <td>0.043250</td>\n",
       "      <td>0.681168</td>\n",
       "      <td>...</td>\n",
       "      <td>0.943460</td>\n",
       "      <td>2.677315</td>\n",
       "      <td>1.503526e-04</td>\n",
       "      <td>4.434498</td>\n",
       "      <td>4.299131</td>\n",
       "      <td>7.566105e-04</td>\n",
       "      <td>3.629303</td>\n",
       "      <td>3.718096</td>\n",
       "      <td>6.308658e-04</td>\n",
       "      <td>2.000000</td>\n",
       "    </tr>\n",
       "    <tr>\n",
       "      <th>75%</th>\n",
       "      <td>0.177098</td>\n",
       "      <td>1.005345</td>\n",
       "      <td>-0.022640</td>\n",
       "      <td>0.302994</td>\n",
       "      <td>0.880149</td>\n",
       "      <td>0.335487</td>\n",
       "      <td>2.937767</td>\n",
       "      <td>-1.000000</td>\n",
       "      <td>0.286172</td>\n",
       "      <td>24.789219</td>\n",
       "      <td>...</td>\n",
       "      <td>3.765572</td>\n",
       "      <td>33.388953</td>\n",
       "      <td>5.466612e-03</td>\n",
       "      <td>15.815175</td>\n",
       "      <td>280.631129</td>\n",
       "      <td>9.886522e-03</td>\n",
       "      <td>5.653736</td>\n",
       "      <td>40.104543</td>\n",
       "      <td>5.868701e-03</td>\n",
       "      <td>4.000000</td>\n",
       "    </tr>\n",
       "    <tr>\n",
       "      <th>max</th>\n",
       "      <td>0.834224</td>\n",
       "      <td>1.669893</td>\n",
       "      <td>0.360210</td>\n",
       "      <td>0.992140</td>\n",
       "      <td>2.232413</td>\n",
       "      <td>1.424217</td>\n",
       "      <td>31.498909</td>\n",
       "      <td>0.000000</td>\n",
       "      <td>11.363057</td>\n",
       "      <td>159.477436</td>\n",
       "      <td>...</td>\n",
       "      <td>87.833831</td>\n",
       "      <td>392.405462</td>\n",
       "      <td>9.851877e-01</td>\n",
       "      <td>426.576443</td>\n",
       "      <td>1969.197704</td>\n",
       "      <td>3.203657e+00</td>\n",
       "      <td>240.138126</td>\n",
       "      <td>774.893250</td>\n",
       "      <td>1.164676e+00</td>\n",
       "      <td>5.000000</td>\n",
       "    </tr>\n",
       "  </tbody>\n",
       "</table>\n",
       "<p>8 rows × 61 columns</p>\n",
       "</div>"
      ],
      "text/plain": [
       "       TotalAccXMean  TotalAccYMean  TotalAccZMean   BodyAccXRMS  \\\n",
       "count   24075.000000   24075.000000   24075.000000  24075.000000   \n",
       "mean        0.056229       0.502560      -0.234221      0.193935   \n",
       "std         0.230120       0.744037       0.332261      0.197572   \n",
       "min        -0.453039      -1.244913      -0.989318      0.001369   \n",
       "25%        -0.096622       0.064795      -0.272453      0.028706   \n",
       "50%        -0.014897       0.941564      -0.094008      0.116871   \n",
       "75%         0.177098       1.005345      -0.022640      0.302994   \n",
       "max         0.834224       1.669893       0.360210      0.992140   \n",
       "\n",
       "        BodyAccYRMS   BodyAccZRMS  BodyAccXCovZeroValue  BodyAccXCovFirstPos  \\\n",
       "count  24075.000000  24075.000000          24075.000000         24075.000000   \n",
       "mean       0.454387      0.225730              2.452598            -1.870147   \n",
       "std        0.487146      0.221954              3.952824             0.740147   \n",
       "min        0.002445      0.000647              0.000000            -2.700000   \n",
       "25%        0.138740      0.028787              0.026368            -2.400000   \n",
       "50%        0.145899      0.138094              0.437082            -2.200000   \n",
       "75%        0.880149      0.335487              2.937767            -1.000000   \n",
       "max        2.232413      1.424217             31.498909             0.000000   \n",
       "\n",
       "       BodyAccXCovFirstValue  BodyAccYCovZeroValue  ...  BodyAccXPowerBand1  \\\n",
       "count           24075.000000          24075.000000  ...        24075.000000   \n",
       "mean                0.275687             14.200608  ...            4.016825   \n",
       "std                 0.581050             23.129108  ...            7.886574   \n",
       "min                -0.729147              0.000000  ...            0.000115   \n",
       "25%                 0.002904              0.615960  ...            0.171658   \n",
       "50%                 0.043250              0.681168  ...            0.943460   \n",
       "75%                 0.286172             24.789219  ...            3.765572   \n",
       "max                11.363057            159.477436  ...           87.833831   \n",
       "\n",
       "       BodyAccXPowerBand2  BodyAccXPowerBand3  BodyAccYPowerBand1  \\\n",
       "count        24075.000000        2.407500e+04        24075.000000   \n",
       "mean            27.270168        1.532889e-02           15.246424   \n",
       "std             45.400285        6.098391e-02           27.276542   \n",
       "min              0.000456        1.114640e-12            0.000890   \n",
       "25%              0.163245        2.396513e-05            2.978039   \n",
       "50%              2.677315        1.503526e-04            4.434498   \n",
       "75%             33.388953        5.466612e-03           15.815175   \n",
       "max            392.405462        9.851877e-01          426.576443   \n",
       "\n",
       "       BodyAccYPowerBand2  BodyAccYPowerBand3  BodyAccZPowerBand1  \\\n",
       "count        24075.000000        2.407500e+04        24075.000000   \n",
       "mean           166.060988        2.880110e-02            6.225484   \n",
       "std            276.975722        1.094213e-01           11.582839   \n",
       "min              0.001277        1.393132e-13            0.000010   \n",
       "25%              3.726014        3.074152e-04            0.151364   \n",
       "50%              4.299131        7.566105e-04            3.629303   \n",
       "75%            280.631129        9.886522e-03            5.653736   \n",
       "max           1969.197704        3.203657e+00          240.138126   \n",
       "\n",
       "       BodyAccZPowerBand2  BodyAccZPowerBand3     Actividad  \n",
       "count        24075.000000        2.407500e+04  24075.000000  \n",
       "mean            34.673391        1.513254e-02      2.640374  \n",
       "std             62.387003        5.054392e-02      1.306205  \n",
       "min              0.000114        3.480691e-14      1.000000  \n",
       "25%              0.169131        1.942700e-05      2.000000  \n",
       "50%              3.718096        6.308658e-04      2.000000  \n",
       "75%             40.104543        5.868701e-03      4.000000  \n",
       "max            774.893250        1.164676e+00      5.000000  \n",
       "\n",
       "[8 rows x 61 columns]"
      ]
     },
     "execution_count": 21,
     "metadata": {},
     "output_type": "execute_result"
    }
   ],
   "source": [
    "sta_ah= x_ah.describe();\n",
    "sta_ah"
   ]
  },
  {
   "cell_type": "markdown",
   "metadata": {},
   "source": [
    "#### NOTA: Para un problema de clasificación es importante revisar que las clases esten relativamente equilibradas, es decir que ninguna predomine sobre otra.\n",
    "Un gráfico de barras nos muestra esto en una vista."
   ]
  },
  {
   "cell_type": "code",
   "execution_count": 176,
   "metadata": {},
   "outputs": [
    {
     "data": {
      "image/png": "[encoded data removed]",
      "text/plain": [
       "<Figure size 432x288 with 1 Axes>"
      ]
     },
     "metadata": {
      "needs_background": "light"
     },
     "output_type": "display_data"
    }
   ],
   "source": [
    "# leemos desde la hoja 2 la variable que contiene la actividad  \n",
    "# y graficamos el número de registros por cada clase\n",
    "y_ah = pd.read_excel('ActividadHumanas.xlsx',sheet_name=1);\n",
    "y_ah.groupby('label').count().plot(kind = 'bar');"
   ]
  },
  {
   "cell_type": "code",
   "execution_count": 2,
   "metadata": {},
   "outputs": [],
   "source": [
    "from sklearn.model_selection import train_test_split\n",
    "import numpy as np \n",
    "import matplotlib.pyplot as plt\n",
    "import pandas as pd"
   ]
  },
  {
   "cell_type": "markdown",
   "metadata": {},
   "source": [
    "<h1 style=\"text-align:center\">\n",
    "CUESTIONARIO\n",
    "</h1>"
   ]
  },
  {
   "cell_type": "markdown",
   "metadata": {},
   "source": [
    "<h1 style=\"color:red\">\n",
    "Pregunta 1.-\n",
    "</h1>\n",
    "<h4 style=\"color:#000080\">\n",
    "Separar la data en 60% para entrenamiento y 40% para prueba y correr los siguientes modelos.\n",
    "<br>\n",
    "<ol>\n",
    "   <li>Regresión logística.</li>\n",
    "  <li> KNN.</li>\n",
    "  <li>Redes Neuronales.</li>\n",
    "</ol>\n",
    "Para cada algoritmo, defina al menos dos parámetros explicando que significa.\n",
    "</h4>"
   ]
  },
  {
   "cell_type": "markdown",
   "metadata": {},
   "source": [
    "<h3>\n",
    "<span style=\"color:black\">Separacion de la data - Entrenamiento, Prueba</span>\n",
    "</h3>"
   ]
  },
  {
   "cell_type": "code",
   "execution_count": 124,
   "metadata": {},
   "outputs": [],
   "source": [
    "df=x_ah.drop('label',axis=1);\n",
    "var = df.to_numpy()\n",
    "clas = df.Actividad.to_numpy()\n",
    "x_train, x_test, y_train, y_test = train_test_split(var, clas, test_size=0.4, random_state=0)"
   ]
  },
  {
   "cell_type": "markdown",
   "metadata": {},
   "source": [
    "<h3>\n",
    "<span style=\"color:green\">Modelo: Regresión Logística</span>\n",
    "</h3>"
   ]
  },
  {
   "cell_type": "code",
   "execution_count": 125,
   "metadata": {},
   "outputs": [
    {
     "data": {
      "text/plain": [
       "LogisticRegression(max_iter=10000, solver='saga')"
      ]
     },
     "execution_count": 125,
     "metadata": {},
     "output_type": "execute_result"
    }
   ],
   "source": [
    "from sklearn.linear_model import LogisticRegression\n",
    "# El parámetro max_iter nos permite definir el número de interaciones a 10000\n",
    "# solver es el parámetro que permite la optimización del algoritmo\n",
    "# Para conjuntos de datos grandes se utiliza 'sag' y 'saga' \n",
    "logisticRegr = LogisticRegression(max_iter=10000, solver='saga')\n",
    "# Entrenamos el modelo de regresión logística para muchas clases porque detrás corre uno versus todos\n",
    "logisticRegr.fit(x_train, y_train)"
   ]
  },
  {
   "cell_type": "code",
   "execution_count": 14,
   "metadata": {},
   "outputs": [
    {
     "data": {
      "text/plain": [
       "array([3, 3, 2, 2, 1, 1, 4, 1, 1, 3], dtype=int64)"
      ]
     },
     "execution_count": 14,
     "metadata": {},
     "output_type": "execute_result"
    }
   ],
   "source": [
    "# Retornamos un arreglo NumPy\n",
    "# Predicimos para una observación (una registro o imagen)\n",
    "logisticRegr.predict(x_test[0].reshape(1,-1))\n",
    "logisticRegr.predict(x_test[0:10])"
   ]
  },
  {
   "cell_type": "code",
   "execution_count": 60,
   "metadata": {},
   "outputs": [],
   "source": [
    "#Una vez entrenado el modelo, se pueden obtener predicciones para nuevos datos. \n",
    "#Los modelos de regresión logística devuelven la probabilidad de pertenecer a la clase de referencia\n",
    "predictions_log_test = logisticRegr.predict(x_test)\n",
    "predictions_log_train = logisticRegr.predict(x_train)"
   ]
  },
  {
   "cell_type": "markdown",
   "metadata": {},
   "source": [
    "<h3>\n",
    "<span style=\"color:blue\">Modelo: KNN</span>\n",
    "</h3>"
   ]
  },
  {
   "cell_type": "code",
   "execution_count": 126,
   "metadata": {},
   "outputs": [
    {
     "name": "stdout",
     "output_type": "stream",
     "text": [
      "porcentaje de aciertos entrenamiento:  0.98\n",
      "porcentaje de aciertos Prueba:         0.98\n"
     ]
    }
   ],
   "source": [
    "from sklearn.neighbors import KNeighborsClassifier\n",
    "#utilizamos la clase KNeighborsClassifier de SciKit Learn puesto que nuestras etiquetas son valores discretos\n",
    "#(actividades humanas numeradas del 1 al 5).\n",
    "# El parámetro n_neighbors debe ser el del número de vecinos o K\n",
    "# p,metric son parámetros que definen la distancia que utilizará el modelo para verificar los vecinos del dato que se va a predecir.\n",
    "#Por defecto la primera es “p=2” y la segunda es “metric=minkowski”.\n",
    "knn = KNeighborsClassifier(n_neighbors = 5, p=2, metric = 'minkowski')\n",
    "#Entrenamos el modelo de vecinos cercanos\n",
    "knn.fit(x_train, y_train)\n",
    "print('porcentaje de aciertos entrenamiento: %5.2f' %knn.score(x_train, y_train))\n",
    "print('porcentaje de aciertos Prueba:        %5.2f' %knn.score(x_test, y_test))\n",
    "#Vemos que la precisión que nos da es de 98% en el set de entrenamiento y prueba."
   ]
  },
  {
   "cell_type": "code",
   "execution_count": 61,
   "metadata": {},
   "outputs": [],
   "source": [
    "predictions_knn_test = knn.predict(x_test)\n",
    "predictions_knn_train = knn.predict(x_train)"
   ]
  },
  {
   "cell_type": "markdown",
   "metadata": {},
   "source": [
    "<h3>\n",
    "    <span style=\"color:brown\">Modelo: Redes Neuronales</span>\n",
    "</h3>"
   ]
  },
  {
   "cell_type": "code",
   "execution_count": 76,
   "metadata": {},
   "outputs": [],
   "source": [
    "from sklearn.model_selection import train_test_split\n",
    "from sklearn.preprocessing import StandardScaler\n",
    "from sklearn.neural_network import MLPClassifier\n",
    "from sklearn.metrics import classification_report,confusion_matrix"
   ]
  },
  {
   "cell_type": "code",
   "execution_count": 20,
   "metadata": {},
   "outputs": [],
   "source": [
    "# Algunos algoritmos son sensible a los datos con atributos de dimensiones diferentes, para esto se debe escalar los datos \n",
    "scaler = StandardScaler()\n",
    "# Con los datos escalados, ajustamos en modelo con los datos de entrenamieto\n",
    "scaler.fit(x_train)\n",
    "StandardScaler(copy=True, with_mean=True, with_std=True)\n",
    "X_train = scaler.transform(x_train)\n",
    "X_test = scaler.transform(x_test)"
   ]
  },
  {
   "cell_type": "code",
   "execution_count": 81,
   "metadata": {},
   "outputs": [],
   "source": [
    "#El parámetro max_iter define el número máximo de iteraciones.\n",
    "#El solucionador itera hasta la convergencia (determinada por 'tol') o este número de iteraciones.\n",
    "#El parámetro hidden_layer_sizes representa una tupla, longitud = n_layers-2\n",
    "#Donde el elemento i-ésimo representa el número de neuronas en la i-ésima capa oculta.\n",
    "\n",
    "#Definimos el pmc con 13 neuronas en la entrada y primera y segunda capa oculta y el número máximo de iteraciones en 500\n",
    "mlp = MLPClassifier(hidden_layer_sizes=(13,13,13),max_iter=500)"
   ]
  },
  {
   "cell_type": "code",
   "execution_count": 83,
   "metadata": {},
   "outputs": [
    {
     "data": {
      "text/plain": [
       "MLPClassifier(hidden_layer_sizes=(13, 13, 13), max_iter=500)"
      ]
     },
     "execution_count": 83,
     "metadata": {},
     "output_type": "execute_result"
    }
   ],
   "source": [
    "mlp.fit(x_train,y_train)"
   ]
  },
  {
   "cell_type": "code",
   "execution_count": 85,
   "metadata": {},
   "outputs": [],
   "source": [
    "# calculamos la predicción con los datos de prueba\n",
    "predictions_red_test   = mlp.predict(x_test)\n",
    "predictions_red_train = mlp.predict(x_train)"
   ]
  },
  {
   "cell_type": "markdown",
   "metadata": {},
   "source": [
    "<h1 style=\"color:red\">\n",
    "Pregunta 2.-\n",
    "</h1>\n",
    "<h4 style=\"color:#000080\">\n",
    "Calcule la exactitud, precisión y recuerdo para los modelos resultantes tanto para datos de prueba como de entrenamiento.  Preséntelos en una tabla con una columna para cada modelo:\n",
    "</h4>"
   ]
  },
  {
   "cell_type": "markdown",
   "metadata": {},
   "source": [
    "<h3>\n",
    "<span style=\"color:green\">Cálculos: Regresión Logística</span>\n",
    "</h3>"
   ]
  },
  {
   "cell_type": "markdown",
   "metadata": {},
   "source": [
    "**Matriz de confusión**"
   ]
  },
  {
   "cell_type": "code",
   "execution_count": 65,
   "metadata": {},
   "outputs": [
    {
     "name": "stdout",
     "output_type": "stream",
     "text": [
      "Datos de Prueba:\n",
      "[[2353    0    3    0    0]\n",
      " [   6 2483    8    0    0]\n",
      " [   0    8 2150    2    0]\n",
      " [   0    1   13 1510   25]\n",
      " [   0    5    4   44 1015]]\n",
      "\n",
      "Datos de Entrenamiento:\n",
      "[[3493    0    1    0    0]\n",
      " [   3 3712    8    0    0]\n",
      " [   1   12 3223    0    0]\n",
      " [   0    1   23 2337   46]\n",
      " [   0    3    5   60 1517]]\n"
     ]
    }
   ],
   "source": [
    "import matplotlib.pyplot as plt\n",
    "import seaborn as sns\n",
    "from sklearn import metrics\n",
    "\n",
    "print('Datos de Prueba:')\n",
    "print(metrics.confusion_matrix(y_test, predictions_log_test))\n",
    "print('\\nDatos de Entrenamiento:')\n",
    "print(metrics.confusion_matrix(y_train, predictions_log_train))"
   ]
  },
  {
   "cell_type": "markdown",
   "metadata": {},
   "source": [
    "**Reporte de las métricas**"
   ]
  },
  {
   "cell_type": "code",
   "execution_count": 66,
   "metadata": {},
   "outputs": [
    {
     "name": "stdout",
     "output_type": "stream",
     "text": [
      "Datos de Prueba:\n",
      "              precision    recall  f1-score   support\n",
      "\n",
      "           1       1.00      1.00      1.00      2356\n",
      "           2       0.99      0.99      0.99      2497\n",
      "           3       0.99      1.00      0.99      2160\n",
      "           4       0.97      0.97      0.97      1549\n",
      "           5       0.98      0.95      0.96      1068\n",
      "\n",
      "    accuracy                           0.99      9630\n",
      "   macro avg       0.99      0.98      0.98      9630\n",
      "weighted avg       0.99      0.99      0.99      9630\n",
      "\n",
      "\n",
      "Datos de Entrenamiento:\n",
      "              precision    recall  f1-score   support\n",
      "\n",
      "           1       1.00      1.00      1.00      3494\n",
      "           2       1.00      1.00      1.00      3723\n",
      "           3       0.99      1.00      0.99      3236\n",
      "           4       0.97      0.97      0.97      2407\n",
      "           5       0.97      0.96      0.96      1585\n",
      "\n",
      "    accuracy                           0.99     14445\n",
      "   macro avg       0.99      0.98      0.98     14445\n",
      "weighted avg       0.99      0.99      0.99     14445\n",
      "\n"
     ]
    }
   ],
   "source": [
    "print('Datos de Prueba:')\n",
    "print(metrics.classification_report(y_test, predictions_log_test))\n",
    "print('\\nDatos de Entrenamiento:')\n",
    "print(metrics.classification_report(y_train, predictions_log_train))"
   ]
  },
  {
   "cell_type": "markdown",
   "metadata": {},
   "source": [
    "**Exactitud**"
   ]
  },
  {
   "cell_type": "code",
   "execution_count": 67,
   "metadata": {},
   "outputs": [
    {
     "name": "stdout",
     "output_type": "stream",
     "text": [
      "Exactitud del modelo - Prueba:\n",
      "0.9876427829698857\n",
      "\n",
      "Exactitud del modelo - Entrenamiento:\n",
      "0.9887158186223607\n"
     ]
    }
   ],
   "source": [
    "from sklearn.metrics import accuracy_score\n",
    "exactitud_log_test = accuracy_score(predictions_log_test, y_test)\n",
    "exactitud_log_train  = accuracy_score(predictions_log_train, y_train)\n",
    "print('Exactitud del modelo - Prueba:')\n",
    "print(exactitud_log_test)\n",
    "print('\\nExactitud del modelo - Entrenamiento:')\n",
    "print(exactitud_log_train)"
   ]
  },
  {
   "cell_type": "markdown",
   "metadata": {},
   "source": [
    "**Precisión**"
   ]
  },
  {
   "cell_type": "code",
   "execution_count": 68,
   "metadata": {},
   "outputs": [
    {
     "name": "stdout",
     "output_type": "stream",
     "text": [
      "Precisión del modelo - Prueba:\n",
      "0.9827374591174202\n",
      "\n",
      "Precisión del modelo - Entrenamiento:\n",
      "0.9841515660880372\n"
     ]
    }
   ],
   "source": [
    "from sklearn.metrics import precision_score\n",
    "precision_log_test = precision_score(predictions_log_test, y_test, average='macro')\n",
    "precision_log_train  = precision_score(predictions_log_train, y_train, average='macro')\n",
    "print('Precisión del modelo - Prueba:')\n",
    "print(precision_log_test)\n",
    "print('\\nPrecisión del modelo - Entrenamiento:')\n",
    "print(precision_log_train)"
   ]
  },
  {
   "cell_type": "markdown",
   "metadata": {},
   "source": [
    "**Sensibilidad**"
   ]
  },
  {
   "cell_type": "code",
   "execution_count": 69,
   "metadata": {},
   "outputs": [
    {
     "name": "stdout",
     "output_type": "stream",
     "text": [
      "Sensibilidad del modelo - Prueba:\n",
      "0.9850785093460784\n",
      "\n",
      "Sensibilidad del modelo - Entrenamiento:\n",
      "0.9857505504709516\n"
     ]
    }
   ],
   "source": [
    "from sklearn.metrics import recall_score\n",
    "sensibilidad_log_test = recall_score(predictions_log_test, y_test, average='macro')\n",
    "sensibilidad_log_train  = recall_score(predictions_log_train, y_train, average='macro')\n",
    "print('Sensibilidad del modelo - Prueba:')\n",
    "print(sensibilidad_log_test)\n",
    "print('\\nSensibilidad del modelo - Entrenamiento:')\n",
    "print(sensibilidad_log_train)"
   ]
  },
  {
   "cell_type": "markdown",
   "metadata": {},
   "source": [
    "**Puntaje F1**"
   ]
  },
  {
   "cell_type": "code",
   "execution_count": 70,
   "metadata": {},
   "outputs": [
    {
     "name": "stdout",
     "output_type": "stream",
     "text": [
      "Puntaje F1 del modelo - Prueba:\n",
      "0.9838695148533215\n",
      "\n",
      "Puntaje F1 del modelo - Entrenamiento:\n",
      "0.9849379648352702\n"
     ]
    }
   ],
   "source": [
    "from sklearn.metrics import f1_score\n",
    "f1score_log_test = f1_score(predictions_log_test, y_test, average='macro')\n",
    "f1score_log_train  = f1_score(predictions_log_train, y_train, average='macro')\n",
    "print('Puntaje F1 del modelo - Prueba:')\n",
    "print(f1score_log_test)\n",
    "print('\\nPuntaje F1 del modelo - Entrenamiento:')\n",
    "print(f1score_log_train)"
   ]
  },
  {
   "cell_type": "markdown",
   "metadata": {},
   "source": [
    "<h3>\n",
    "<span style=\"color:blue\">Cálculos: KNN</span>\n",
    "</h3>"
   ]
  },
  {
   "cell_type": "markdown",
   "metadata": {},
   "source": [
    "**Matriz de confusión**"
   ]
  },
  {
   "cell_type": "code",
   "execution_count": 71,
   "metadata": {},
   "outputs": [
    {
     "name": "stdout",
     "output_type": "stream",
     "text": [
      "Datos de Prueba:\n",
      "[[2352    0    4    0    0]\n",
      " [   4 2491    2    0    0]\n",
      " [   0    8 2150    0    2]\n",
      " [   0    1   10 1466   72]\n",
      " [   0    0    1  129  938]]\n",
      "\n",
      "Datos de Entrenamiento:\n",
      "[[3493    0    1    0    0]\n",
      " [   3 3716    4    0    0]\n",
      " [   0   12 3224    0    0]\n",
      " [   0    1   17 2309   80]\n",
      " [   0    0    3  126 1456]]\n"
     ]
    }
   ],
   "source": [
    "print('Datos de Prueba:')\n",
    "print(metrics.confusion_matrix(y_test, predictions_knn_test))\n",
    "print('\\nDatos de Entrenamiento:')\n",
    "print(metrics.confusion_matrix(y_train, predictions_knn_train))"
   ]
  },
  {
   "cell_type": "markdown",
   "metadata": {},
   "source": [
    "**Reporte de las métricas**"
   ]
  },
  {
   "cell_type": "code",
   "execution_count": 92,
   "metadata": {},
   "outputs": [
    {
     "name": "stdout",
     "output_type": "stream",
     "text": [
      "Datos de Prueba:\n",
      "              precision    recall  f1-score   support\n",
      "\n",
      "           1       1.00      1.00      1.00      2356\n",
      "           2       1.00      1.00      1.00      2497\n",
      "           3       0.99      1.00      0.99      2160\n",
      "           4       0.92      0.95      0.93      1549\n",
      "           5       0.93      0.88      0.90      1068\n",
      "\n",
      "    accuracy                           0.98      9630\n",
      "   macro avg       0.97      0.96      0.96      9630\n",
      "weighted avg       0.98      0.98      0.98      9630\n",
      "\n",
      "\n",
      "Datos de Entrenamiento:\n",
      "              precision    recall  f1-score   support\n",
      "\n",
      "           1       1.00      1.00      1.00      3494\n",
      "           2       1.00      1.00      1.00      3723\n",
      "           3       0.99      1.00      0.99      3236\n",
      "           4       0.95      0.96      0.95      2407\n",
      "           5       0.95      0.92      0.93      1585\n",
      "\n",
      "    accuracy                           0.98     14445\n",
      "   macro avg       0.98      0.97      0.98     14445\n",
      "weighted avg       0.98      0.98      0.98     14445\n",
      "\n"
     ]
    }
   ],
   "source": [
    "print('Datos de Prueba:')\n",
    "print(metrics.classification_report(y_test, predictions_knn_test))\n",
    "print('\\nDatos de Entrenamiento:')\n",
    "print(metrics.classification_report(y_train, predictions_knn_train))"
   ]
  },
  {
   "cell_type": "markdown",
   "metadata": {},
   "source": [
    "**Exactitud**"
   ]
  },
  {
   "cell_type": "code",
   "execution_count": 73,
   "metadata": {},
   "outputs": [
    {
     "name": "stdout",
     "output_type": "stream",
     "text": [
      "Exactitud del modelo - Prueba:\n",
      "0.9758047767393562\n",
      "\n",
      "Exactitud del modelo - Entrenamiento:\n",
      "0.9829006576670128\n"
     ]
    }
   ],
   "source": [
    "exactitud_knn_test = accuracy_score(predictions_knn_test, y_test)\n",
    "exactitud_knn_train  = accuracy_score(predictions_knn_train, y_train)\n",
    "print('Exactitud del modelo - Prueba:')\n",
    "print(exactitud_knn_test)\n",
    "print('\\nExactitud del modelo - Entrenamiento:')\n",
    "print(exactitud_knn_train)"
   ]
  },
  {
   "cell_type": "markdown",
   "metadata": {},
   "source": [
    "**Precisión**"
   ]
  },
  {
   "cell_type": "code",
   "execution_count": 74,
   "metadata": {},
   "outputs": [
    {
     "name": "stdout",
     "output_type": "stream",
     "text": [
      "Precisión del modelo - Prueba:\n",
      "0.9631927781705425\n",
      "\n",
      "Precisión del modelo - Entrenamiento:\n",
      "0.9744045428050617\n"
     ]
    }
   ],
   "source": [
    "precision_knn_test = precision_score(predictions_knn_test, y_test, average='macro')\n",
    "precision_knn_train  = precision_score(predictions_knn_train, y_train, average='macro')\n",
    "print('Precisión del modelo - Prueba:')\n",
    "print(precision_knn_test)\n",
    "print('\\nPrecisión del modelo - Entrenamiento:')\n",
    "print(precision_knn_train)"
   ]
  },
  {
   "cell_type": "markdown",
   "metadata": {},
   "source": [
    "**Sensibilidad**"
   ]
  },
  {
   "cell_type": "code",
   "execution_count": 75,
   "metadata": {},
   "outputs": [
    {
     "name": "stdout",
     "output_type": "stream",
     "text": [
      "Sensibilidad del modelo - Prueba:\n",
      "0.9665713975217024\n",
      "\n",
      "Sensibilidad del modelo - Entrenamiento:\n",
      "0.9768264597216951\n"
     ]
    }
   ],
   "source": [
    "sensibilidad_knn_test = recall_score(predictions_knn_test, y_test, average='macro')\n",
    "sensibilidad_knn_train  = recall_score(predictions_knn_train, y_train, average='macro')\n",
    "print('Sensibilidad del modelo - Prueba:')\n",
    "print(sensibilidad_knn_test)\n",
    "print('\\nSensibilidad del modelo - Entrenamiento:')\n",
    "print(sensibilidad_knn_train)"
   ]
  },
  {
   "cell_type": "markdown",
   "metadata": {},
   "source": [
    "**Puntaje F1**"
   ]
  },
  {
   "cell_type": "code",
   "execution_count": 76,
   "metadata": {},
   "outputs": [
    {
     "name": "stdout",
     "output_type": "stream",
     "text": [
      "Puntaje F1 del modelo - Prueba:\n",
      "0.9647107136918454\n",
      "\n",
      "Puntaje F1 del modelo - Entrenamiento:\n",
      "0.9755621690249374\n"
     ]
    }
   ],
   "source": [
    "f1score_knn_test = f1_score(predictions_knn_test, y_test, average='macro')\n",
    "f1score_knn_train  = f1_score(predictions_knn_train, y_train, average='macro')\n",
    "print('Puntaje F1 del modelo - Prueba:')\n",
    "print(f1score_knn_test)\n",
    "print('\\nPuntaje F1 del modelo - Entrenamiento:')\n",
    "print(f1score_knn_train)"
   ]
  },
  {
   "cell_type": "markdown",
   "metadata": {},
   "source": [
    "<h3>\n",
    "<span style=\"color:brown\">Cálculos: Redes Neuronales</span>\n",
    "</h3>"
   ]
  },
  {
   "cell_type": "markdown",
   "metadata": {},
   "source": [
    "**Matriz de confusión**"
   ]
  },
  {
   "cell_type": "code",
   "execution_count": 86,
   "metadata": {},
   "outputs": [
    {
     "name": "stdout",
     "output_type": "stream",
     "text": [
      "Datos de Prueba:\n",
      "[[2351    5    0    0    0]\n",
      " [   0 2496    1    0    0]\n",
      " [   0    2 2151    3    4]\n",
      " [   0    0    4 1544    1]\n",
      " [   0    0    0   10 1058]]\n",
      "\n",
      "Datos de Entrenamiento:\n",
      "[[3483   11    0    0    0]\n",
      " [   0 3723    0    0    0]\n",
      " [   0    1 3235    0    0]\n",
      " [   0    0    1 2405    1]\n",
      " [   0    0    0    6 1579]]\n"
     ]
    }
   ],
   "source": [
    "print('Datos de Prueba:')\n",
    "print(metrics.confusion_matrix(y_test, predictions_red_test))\n",
    "print('\\nDatos de Entrenamiento:')\n",
    "print(metrics.confusion_matrix(y_train, predictions_red_train))"
   ]
  },
  {
   "cell_type": "markdown",
   "metadata": {},
   "source": [
    "**Reporte de las métricas**"
   ]
  },
  {
   "cell_type": "code",
   "execution_count": 87,
   "metadata": {},
   "outputs": [
    {
     "name": "stdout",
     "output_type": "stream",
     "text": [
      "Datos de Prueba:\n",
      "              precision    recall  f1-score   support\n",
      "\n",
      "           1       1.00      1.00      1.00      2356\n",
      "           2       1.00      1.00      1.00      2497\n",
      "           3       1.00      1.00      1.00      2160\n",
      "           4       0.99      1.00      0.99      1549\n",
      "           5       1.00      0.99      0.99      1068\n",
      "\n",
      "    accuracy                           1.00      9630\n",
      "   macro avg       1.00      1.00      1.00      9630\n",
      "weighted avg       1.00      1.00      1.00      9630\n",
      "\n",
      "\n",
      "Datos de Entrenamiento:\n",
      "              precision    recall  f1-score   support\n",
      "\n",
      "           1       1.00      1.00      1.00      3494\n",
      "           2       1.00      1.00      1.00      3723\n",
      "           3       1.00      1.00      1.00      3236\n",
      "           4       1.00      1.00      1.00      2407\n",
      "           5       1.00      1.00      1.00      1585\n",
      "\n",
      "    accuracy                           1.00     14445\n",
      "   macro avg       1.00      1.00      1.00     14445\n",
      "weighted avg       1.00      1.00      1.00     14445\n",
      "\n"
     ]
    }
   ],
   "source": [
    "print('Datos de Prueba:')\n",
    "print(metrics.classification_report(y_test, predictions_red_test))\n",
    "print('\\nDatos de Entrenamiento:')\n",
    "print(metrics.classification_report(y_train, predictions_red_train))"
   ]
  },
  {
   "cell_type": "markdown",
   "metadata": {},
   "source": [
    "**Exactitud**"
   ]
  },
  {
   "cell_type": "code",
   "execution_count": 88,
   "metadata": {},
   "outputs": [
    {
     "name": "stdout",
     "output_type": "stream",
     "text": [
      "Exactitud del modelo - Prueba:\n",
      "0.9968847352024922\n",
      "\n",
      "Exactitud del modelo - Entrenamiento:\n",
      "0.9986154378677743\n"
     ]
    }
   ],
   "source": [
    "exactitud_red_test = accuracy_score(predictions_red_test, y_test)\n",
    "exactitud_red_train  = accuracy_score(predictions_red_train, y_train)\n",
    "print('Exactitud del modelo - Prueba:')\n",
    "print(exactitud_red_test)\n",
    "print('\\nExactitud del modelo - Entrenamiento:')\n",
    "print(exactitud_red_train)"
   ]
  },
  {
   "cell_type": "markdown",
   "metadata": {},
   "source": [
    "**Precisión**"
   ]
  },
  {
   "cell_type": "code",
   "execution_count": 89,
   "metadata": {},
   "outputs": [
    {
     "name": "stdout",
     "output_type": "stream",
     "text": [
      "Precisión del modelo - Prueba:\n",
      "0.9961438853658569\n",
      "\n",
      "Precisión del modelo - Entrenamiento:\n",
      "0.9983852647117943\n"
     ]
    }
   ],
   "source": [
    "precision_red_test = precision_score(predictions_red_test, y_test, average='macro')\n",
    "precision_red_train  = precision_score(predictions_red_train, y_train, average='macro')\n",
    "print('Precisión del modelo - Prueba:')\n",
    "print(precision_red_test)\n",
    "print('\\nPrecisión del modelo - Entrenamiento:')\n",
    "print(precision_red_train)"
   ]
  },
  {
   "cell_type": "markdown",
   "metadata": {},
   "source": [
    "**Sensibilidad**"
   ]
  },
  {
   "cell_type": "code",
   "execution_count": 90,
   "metadata": {},
   "outputs": [
    {
     "name": "stdout",
     "output_type": "stream",
     "text": [
      "Sensibilidad del modelo - Prueba:\n",
      "0.9963662375593747\n",
      "\n",
      "Sensibilidad del modelo - Entrenamiento:\n",
      "0.9986713239543533\n"
     ]
    }
   ],
   "source": [
    "sensibilidad_red_test = recall_score(predictions_red_test, y_test, average='macro')\n",
    "sensibilidad_red_train  = recall_score(predictions_red_train, y_train, average='macro')\n",
    "print('Sensibilidad del modelo - Prueba:')\n",
    "print(sensibilidad_red_test)\n",
    "print('\\nSensibilidad del modelo - Entrenamiento:')\n",
    "print(sensibilidad_red_train)"
   ]
  },
  {
   "cell_type": "markdown",
   "metadata": {},
   "source": [
    "**Puntaje F1**"
   ]
  },
  {
   "cell_type": "code",
   "execution_count": 91,
   "metadata": {},
   "outputs": [
    {
     "name": "stdout",
     "output_type": "stream",
     "text": [
      "Puntaje F1 del modelo - Prueba:\n",
      "0.9962519648393903\n",
      "\n",
      "Puntaje F1 del modelo - Entrenamiento:\n",
      "0.9985266453636037\n"
     ]
    }
   ],
   "source": [
    "f1score_red_test = f1_score(predictions_red_test, y_test, average='macro')\n",
    "f1score_red_train  = f1_score(predictions_red_train, y_train, average='macro')\n",
    "print('Puntaje F1 del modelo - Prueba:')\n",
    "print(f1score_red_test)\n",
    "print('\\nPuntaje F1 del modelo - Entrenamiento:')\n",
    "print(f1score_red_train)"
   ]
  },
  {
   "cell_type": "markdown",
   "metadata": {},
   "source": [
    "**Construcción Tabla**"
   ]
  },
  {
   "cell_type": "code",
   "execution_count": 150,
   "metadata": {},
   "outputs": [],
   "source": [
    "import pandas as pd\n",
    "df = pd.DataFrame()\n",
    "\n",
    "df['Resultados'] = ['Exactitud-Test', 'Exactitud-Train','Precisión-Test','Precisión-Train', 'Recuerdo-Test','Recuerdo-Train','PuntajeF1-Test','PuntajeF1-Train']\n",
    "df['Regresión Logística'] = [exactitud_log_test,exactitud_log_train,precision_log_test,precision_log_train,sensibilidad_log_test,sensibilidad_log_train,f1score_log_test,f1score_log_train]\n",
    "df['Vecinos Cercanos'] = [exactitud_knn_test,exactitud_knn_train,precision_knn_test,precision_knn_train,sensibilidad_knn_test,sensibilidad_knn_train,f1score_knn_test,f1score_knn_train]\n",
    "df['Redes Neuronales'] = [exactitud_red_test,exactitud_red_train,precision_red_test,precision_red_train,sensibilidad_red_test,sensibilidad_red_train,f1score_red_test,f1score_red_train]\n",
    "\n",
    "import seaborn as sns\n",
    "cm = sns.light_palette(\"#2ECC71\", as_cmap=True)"
   ]
  },
  {
   "cell_type": "markdown",
   "metadata": {},
   "source": [
    "<h1>\n",
    "<span style=\"color:#2ECC71\">Tabla de Resultados</span>\n",
    "</h1>"
   ]
  },
  {
   "cell_type": "code",
   "execution_count": 151,
   "metadata": {},
   "outputs": [
    {
     "data": {
      "text/html": [
       "<style type=\"text/css\">\n",
       "#T_d2f93_row0_col1 {\n",
       "  background-color: #4fd387;\n",
       "  color: #000000;\n",
       "}\n",
       "#T_d2f93_row0_col2 {\n",
       "  background-color: #72da9e;\n",
       "  color: #000000;\n",
       "}\n",
       "#T_d2f93_row0_col3 {\n",
       "  background-color: #b3e7c8;\n",
       "  color: #000000;\n",
       "}\n",
       "#T_d2f93_row1_col1, #T_d2f93_row1_col2, #T_d2f93_row5_col3 {\n",
       "  background-color: #2ecc71;\n",
       "  color: #000000;\n",
       "}\n",
       "#T_d2f93_row1_col3 {\n",
       "  background-color: #32cd73;\n",
       "  color: #000000;\n",
       "}\n",
       "#T_d2f93_row2_col1, #T_d2f93_row2_col2, #T_d2f93_row2_col3 {\n",
       "  background-color: #ebf3ec;\n",
       "  color: #000000;\n",
       "}\n",
       "#T_d2f93_row3_col1 {\n",
       "  background-color: #beeacf;\n",
       "  color: #000000;\n",
       "}\n",
       "#T_d2f93_row3_col2 {\n",
       "  background-color: #7fdda6;\n",
       "  color: #000000;\n",
       "}\n",
       "#T_d2f93_row3_col3 {\n",
       "  background-color: #43d07f;\n",
       "  color: #000000;\n",
       "}\n",
       "#T_d2f93_row4_col1 {\n",
       "  background-color: #a1e4bc;\n",
       "  color: #000000;\n",
       "}\n",
       "#T_d2f93_row4_col2 {\n",
       "  background-color: #cbecd8;\n",
       "  color: #000000;\n",
       "}\n",
       "#T_d2f93_row4_col3 {\n",
       "  background-color: #daefe2;\n",
       "  color: #000000;\n",
       "}\n",
       "#T_d2f93_row5_col1 {\n",
       "  background-color: #8bdfae;\n",
       "  color: #000000;\n",
       "}\n",
       "#T_d2f93_row5_col2 {\n",
       "  background-color: #68d897;\n",
       "  color: #000000;\n",
       "}\n",
       "#T_d2f93_row6_col1 {\n",
       "  background-color: #c7ebd5;\n",
       "  color: #000000;\n",
       "}\n",
       "#T_d2f93_row6_col2 {\n",
       "  background-color: #dcf0e3;\n",
       "  color: #000000;\n",
       "}\n",
       "#T_d2f93_row6_col3 {\n",
       "  background-color: #e3f1e8;\n",
       "  color: #000000;\n",
       "}\n",
       "#T_d2f93_row7_col1 {\n",
       "  background-color: #a5e4bf;\n",
       "  color: #000000;\n",
       "}\n",
       "#T_d2f93_row7_col2 {\n",
       "  background-color: #74da9f;\n",
       "  color: #000000;\n",
       "}\n",
       "#T_d2f93_row7_col3 {\n",
       "  background-color: #38ce78;\n",
       "  color: #000000;\n",
       "}\n",
       "</style>\n",
       "<table id=\"T_d2f93\">\n",
       "  <thead>\n",
       "    <tr>\n",
       "      <th class=\"blank level0\" >&nbsp;</th>\n",
       "      <th id=\"T_d2f93_level0_col0\" class=\"col_heading level0 col0\" >Resultados</th>\n",
       "      <th id=\"T_d2f93_level0_col1\" class=\"col_heading level0 col1\" >Regresión Logística</th>\n",
       "      <th id=\"T_d2f93_level0_col2\" class=\"col_heading level0 col2\" >Vecinos Cercanos</th>\n",
       "      <th id=\"T_d2f93_level0_col3\" class=\"col_heading level0 col3\" >Redes Neuronales</th>\n",
       "    </tr>\n",
       "  </thead>\n",
       "  <tbody>\n",
       "    <tr>\n",
       "      <th id=\"T_d2f93_level0_row0\" class=\"row_heading level0 row0\" >0</th>\n",
       "      <td id=\"T_d2f93_row0_col0\" class=\"data row0 col0\" >Exactitud-Test</td>\n",
       "      <td id=\"T_d2f93_row0_col1\" class=\"data row0 col1\" >0.987643</td>\n",
       "      <td id=\"T_d2f93_row0_col2\" class=\"data row0 col2\" >0.975805</td>\n",
       "      <td id=\"T_d2f93_row0_col3\" class=\"data row0 col3\" >0.996885</td>\n",
       "    </tr>\n",
       "    <tr>\n",
       "      <th id=\"T_d2f93_level0_row1\" class=\"row_heading level0 row1\" >1</th>\n",
       "      <td id=\"T_d2f93_row1_col0\" class=\"data row1 col0\" >Exactitud-Train</td>\n",
       "      <td id=\"T_d2f93_row1_col1\" class=\"data row1 col1\" >0.988716</td>\n",
       "      <td id=\"T_d2f93_row1_col2\" class=\"data row1 col2\" >0.982901</td>\n",
       "      <td id=\"T_d2f93_row1_col3\" class=\"data row1 col3\" >0.998615</td>\n",
       "    </tr>\n",
       "    <tr>\n",
       "      <th id=\"T_d2f93_level0_row2\" class=\"row_heading level0 row2\" >2</th>\n",
       "      <td id=\"T_d2f93_row2_col0\" class=\"data row2 col0\" >Precisión-Test</td>\n",
       "      <td id=\"T_d2f93_row2_col1\" class=\"data row2 col1\" >0.982737</td>\n",
       "      <td id=\"T_d2f93_row2_col2\" class=\"data row2 col2\" >0.963193</td>\n",
       "      <td id=\"T_d2f93_row2_col3\" class=\"data row2 col3\" >0.996144</td>\n",
       "    </tr>\n",
       "    <tr>\n",
       "      <th id=\"T_d2f93_level0_row3\" class=\"row_heading level0 row3\" >3</th>\n",
       "      <td id=\"T_d2f93_row3_col0\" class=\"data row3 col0\" >Precisión-Train</td>\n",
       "      <td id=\"T_d2f93_row3_col1\" class=\"data row3 col1\" >0.984152</td>\n",
       "      <td id=\"T_d2f93_row3_col2\" class=\"data row3 col2\" >0.974405</td>\n",
       "      <td id=\"T_d2f93_row3_col3\" class=\"data row3 col3\" >0.998385</td>\n",
       "    </tr>\n",
       "    <tr>\n",
       "      <th id=\"T_d2f93_level0_row4\" class=\"row_heading level0 row4\" >4</th>\n",
       "      <td id=\"T_d2f93_row4_col0\" class=\"data row4 col0\" >Recuerdo-Test</td>\n",
       "      <td id=\"T_d2f93_row4_col1\" class=\"data row4 col1\" >0.985079</td>\n",
       "      <td id=\"T_d2f93_row4_col2\" class=\"data row4 col2\" >0.966571</td>\n",
       "      <td id=\"T_d2f93_row4_col3\" class=\"data row4 col3\" >0.996366</td>\n",
       "    </tr>\n",
       "    <tr>\n",
       "      <th id=\"T_d2f93_level0_row5\" class=\"row_heading level0 row5\" >5</th>\n",
       "      <td id=\"T_d2f93_row5_col0\" class=\"data row5 col0\" >Recuerdo-Train</td>\n",
       "      <td id=\"T_d2f93_row5_col1\" class=\"data row5 col1\" >0.985751</td>\n",
       "      <td id=\"T_d2f93_row5_col2\" class=\"data row5 col2\" >0.976826</td>\n",
       "      <td id=\"T_d2f93_row5_col3\" class=\"data row5 col3\" >0.998671</td>\n",
       "    </tr>\n",
       "    <tr>\n",
       "      <th id=\"T_d2f93_level0_row6\" class=\"row_heading level0 row6\" >6</th>\n",
       "      <td id=\"T_d2f93_row6_col0\" class=\"data row6 col0\" >PuntajeF1-Test</td>\n",
       "      <td id=\"T_d2f93_row6_col1\" class=\"data row6 col1\" >0.983870</td>\n",
       "      <td id=\"T_d2f93_row6_col2\" class=\"data row6 col2\" >0.964711</td>\n",
       "      <td id=\"T_d2f93_row6_col3\" class=\"data row6 col3\" >0.996252</td>\n",
       "    </tr>\n",
       "    <tr>\n",
       "      <th id=\"T_d2f93_level0_row7\" class=\"row_heading level0 row7\" >7</th>\n",
       "      <td id=\"T_d2f93_row7_col0\" class=\"data row7 col0\" >PuntajeF1-Train</td>\n",
       "      <td id=\"T_d2f93_row7_col1\" class=\"data row7 col1\" >0.984938</td>\n",
       "      <td id=\"T_d2f93_row7_col2\" class=\"data row7 col2\" >0.975562</td>\n",
       "      <td id=\"T_d2f93_row7_col3\" class=\"data row7 col3\" >0.998527</td>\n",
       "    </tr>\n",
       "  </tbody>\n",
       "</table>\n"
      ],
      "text/plain": [
       "<pandas.io.formats.style.Styler at 0x1598d119400>"
      ]
     },
     "execution_count": 151,
     "metadata": {},
     "output_type": "execute_result"
    }
   ],
   "source": [
    "df.style.background_gradient (cmap = cm)"
   ]
  },
  {
   "cell_type": "markdown",
   "metadata": {},
   "source": [
    "<h1 style=\"color:red\">\n",
    "Pregunta 3.-\n",
    "</h1>\n",
    "<h4 style=\"color:#000080\">\n",
    "Use PCA con 5 variables (conserva el 99% de la información) y vuelva a correr los algoritmos anteriores y calcule las métricas presentelas como en la pregunta 2\n",
    "</h4>"
   ]
  },
  {
   "cell_type": "code",
   "execution_count": 61,
   "metadata": {},
   "outputs": [],
   "source": [
    "import pandas as pd\n",
    "import numpy as np\n",
    "import matplotlib.pyplot as plt\n",
    "from sklearn.decomposition import PCA\n",
    "from sklearn.model_selection import train_test_split\n",
    "# importamos librerías para calcular las métricas\n",
    "from sklearn.metrics import mean_squared_error, r2_score, mean_absolute_error,median_absolute_error\n",
    "from sklearn.model_selection import cross_val_score"
   ]
  },
  {
   "cell_type": "code",
   "execution_count": 119,
   "metadata": {},
   "outputs": [
    {
     "name": "stdout",
     "output_type": "stream",
     "text": [
      "2\n",
      "5\n"
     ]
    }
   ],
   "source": [
    "data = x_ah.iloc[:, -6:]\n",
    "data= data.drop('label',axis=1);\n",
    "# la librería PCA, permite reducir la dimensión de la data a cualquier dimensión 1 o más, sin embargo es necesario tener \n",
    "# presente que porcentaje de información se conserva ( o se pirede al realizar este proceso)\n",
    "# para este ejemplo reducimos a dos dimensiones, porque el objetivo es visualizar las fronteras de decisión de los clasificadores\n",
    "\n",
    "pca2 = PCA(n_components=2)\n",
    "pca=pca2.fit_transform(data)\n",
    "print(pca2.n_components_)\n",
    "print(pca2.n_features_)\n",
    "\n",
    "x=pca;\n",
    "y=data.iloc[:,4]\n",
    "\n",
    "x1_train, x1_test, y1_train, y1_test = train_test_split(pca, y, random_state=0)"
   ]
  },
  {
   "cell_type": "markdown",
   "metadata": {},
   "source": [
    "<h3>\n",
    "<span style=\"color:green\">Modelo: Regresión Logística</span>\n",
    "</h3>"
   ]
  },
  {
   "cell_type": "code",
   "execution_count": 216,
   "metadata": {},
   "outputs": [
    {
     "data": {
      "text/plain": [
       "LogisticRegression(max_iter=10000, solver='saga')"
      ]
     },
     "execution_count": 216,
     "metadata": {},
     "output_type": "execute_result"
    }
   ],
   "source": [
    "from sklearn.linear_model import LogisticRegression\n",
    "# Definimos el número de interacciones a 10000\n",
    "logisticRegr = LogisticRegression(max_iter=10000, solver='saga')\n",
    "# Entrenamos el modelo de regresión logística para muchas clases porque detrás corre uno versus todos\n",
    "logisticRegr.fit(x1_train, y1_train)"
   ]
  },
  {
   "cell_type": "code",
   "execution_count": 217,
   "metadata": {},
   "outputs": [
    {
     "data": {
      "text/plain": [
       "array([3, 3, 2, 2, 1, 1, 4, 1, 2, 3], dtype=int64)"
      ]
     },
     "execution_count": 217,
     "metadata": {},
     "output_type": "execute_result"
    }
   ],
   "source": [
    "# Retornamos un arreglo NumPy\n",
    "# Predicimos para una observación (una registro o imagen)\n",
    "logisticRegr.predict(x1_test[0].reshape(1,-1))\n",
    "logisticRegr.predict(x1_test[0:10])"
   ]
  },
  {
   "cell_type": "code",
   "execution_count": 218,
   "metadata": {},
   "outputs": [],
   "source": [
    "predictions_log_test = logisticRegr.predict(x1_test)\n",
    "predictions_log_train = logisticRegr.predict(x1_train)"
   ]
  },
  {
   "cell_type": "markdown",
   "metadata": {},
   "source": [
    "**Cálculos: Exactitud, Precisión, Sensibilidad, Puntaje F1**"
   ]
  },
  {
   "cell_type": "code",
   "execution_count": 254,
   "metadata": {},
   "outputs": [
    {
     "name": "stdout",
     "output_type": "stream",
     "text": [
      "Exactitud del modelo - Prueba:\n",
      "0.7873400897158996\n",
      "Exactitud del modelo - Entrenamiento:\n",
      "0.7858329641116526\n",
      "\n",
      "Precisión del modelo - Prueba:\n",
      "0.7205728991072134\n",
      "Precisión del modelo - Entrenamiento:\n",
      "0.7214034144603233\n",
      "\n",
      "Sensibilidad del modelo - Prueba:\n",
      "0.7255499290187518\n",
      "Sensibilidad del modelo - Entrenamiento:\n",
      "0.7250179738904741\n",
      "\n",
      "Puntaje F1 del modelo - Prueba:\n",
      "0.7168931515098469\n",
      "Puntaje F1 del modelo - Entrenamiento:\n",
      "0.7173598788046497\n"
     ]
    }
   ],
   "source": [
    "#Métricas que nos permiten evaluar el rendimiento del modelo construido\n",
    "exactitud_log_test = accuracy_score(predictions_log_test, y1_test)\n",
    "exactitud_log_train  = accuracy_score(predictions_log_train, y1_train)\n",
    "print('Exactitud del modelo - Prueba:')\n",
    "print(exactitud_log_test)\n",
    "print('Exactitud del modelo - Entrenamiento:')\n",
    "print(exactitud_log_train)\n",
    "\n",
    "precision_log_test = precision_score(predictions_log_test, y1_test, average='macro')\n",
    "precision_log_train  = precision_score(predictions_log_train, y1_train, average='macro')\n",
    "print('\\nPrecisión del modelo - Prueba:')\n",
    "print(precision_log_test)\n",
    "print('Precisión del modelo - Entrenamiento:')\n",
    "print(precision_log_train)\n",
    "\n",
    "sensibilidad_log_test = recall_score(predictions_log_test, y1_test, average='macro')\n",
    "sensibilidad_log_train  = recall_score(predictions_log_train, y1_train, average='macro')\n",
    "print('\\nSensibilidad del modelo - Prueba:')\n",
    "print(sensibilidad_log_test)\n",
    "print('Sensibilidad del modelo - Entrenamiento:')\n",
    "print(sensibilidad_log_train)\n",
    "\n",
    "f1score_log_test = f1_score(predictions_log_test, y1_test, average='macro')\n",
    "f1score_log_train  = f1_score(predictions_log_train, y1_train, average='macro')\n",
    "print('\\nPuntaje F1 del modelo - Prueba:')\n",
    "print(f1score_log_test)\n",
    "print('Puntaje F1 del modelo - Entrenamiento:')\n",
    "print(f1score_log_train)"
   ]
  },
  {
   "cell_type": "markdown",
   "metadata": {},
   "source": [
    "<h3>\n",
    "<span style=\"color:blue\">Modelo: KNN</span>\n",
    "</h3>"
   ]
  },
  {
   "cell_type": "code",
   "execution_count": 220,
   "metadata": {},
   "outputs": [
    {
     "name": "stdout",
     "output_type": "stream",
     "text": [
      "porcentaje de aciertos entrenamiento:  0.92\n",
      "porcentaje de aciertos Prueba:         0.88\n"
     ]
    }
   ],
   "source": [
    "from sklearn.neighbors import KNeighborsClassifier\n",
    "knn = KNeighborsClassifier(n_neighbors = 5)\n",
    "knn.fit(x1_train, y1_train)\n",
    "print('porcentaje de aciertos entrenamiento: %5.2f' %knn.score(x1_train, y1_train))\n",
    "print('porcentaje de aciertos Prueba:        %5.2f' %knn.score(x1_test, y1_test))"
   ]
  },
  {
   "cell_type": "code",
   "execution_count": 221,
   "metadata": {},
   "outputs": [],
   "source": [
    "predictions_knn_test = knn.predict(x1_test)\n",
    "predictions_knn_train = knn.predict(x1_train)"
   ]
  },
  {
   "cell_type": "markdown",
   "metadata": {},
   "source": [
    "**Cálculos: Exactitud, Precisión, Sensibilidad, Puntaje F1**"
   ]
  },
  {
   "cell_type": "code",
   "execution_count": 253,
   "metadata": {},
   "outputs": [
    {
     "name": "stdout",
     "output_type": "stream",
     "text": [
      "Exactitud del modelo - Prueba:\n",
      "0.8827047682339259\n",
      "Exactitud del modelo - Entrenamiento:\n",
      "0.9155405405405406\n",
      "\n",
      "Precisión del modelo - Prueba:\n",
      "0.8222467107987173\n",
      "Precisión del modelo - Entrenamiento:\n",
      "0.872152075167671\n",
      "\n",
      "Sensibilidad del modelo - Prueba:\n",
      "0.8278360923169611\n",
      "Sensibilidad del modelo - Entrenamiento:\n",
      "0.8852359390488426\n",
      "\n",
      "Puntaje F1 del modelo - Prueba:\n",
      "0.8210061121297457\n",
      "Puntaje F1 del modelo - Entrenamiento:\n",
      "0.8751366761261645\n"
     ]
    }
   ],
   "source": [
    "#Métricas que nos permiten evaluar el rendimiento del modelo construido\n",
    "exactitud_knn_test = accuracy_score(predictions_knn_test, y1_test)\n",
    "exactitud_knn_train  = accuracy_score(predictions_knn_train, y1_train)\n",
    "print('Exactitud del modelo - Prueba:')\n",
    "print(exactitud_knn_test)\n",
    "print('Exactitud del modelo - Entrenamiento:')\n",
    "print(exactitud_knn_train)\n",
    "\n",
    "precision_knn_test = precision_score(predictions_knn_test, y1_test, average='macro')\n",
    "precision_knn_train  = precision_score(predictions_knn_train, y1_train, average='macro')\n",
    "print('\\nPrecisión del modelo - Prueba:')\n",
    "print(precision_knn_test)\n",
    "print('Precisión del modelo - Entrenamiento:')\n",
    "print(precision_knn_train)\n",
    "\n",
    "sensibilidad_knn_test = recall_score(predictions_knn_test, y1_test, average='macro')\n",
    "sensibilidad_knn_train  = recall_score(predictions_knn_train, y1_train, average='macro')\n",
    "print('\\nSensibilidad del modelo - Prueba:')\n",
    "print(sensibilidad_knn_test)\n",
    "print('Sensibilidad del modelo - Entrenamiento:')\n",
    "print(sensibilidad_knn_train)\n",
    "\n",
    "f1score_knn_test = f1_score(predictions_knn_test, y1_test, average='macro')\n",
    "f1score_knn_train  = f1_score(predictions_knn_train, y1_train, average='macro')\n",
    "print('\\nPuntaje F1 del modelo - Prueba:')\n",
    "print(f1score_knn_test)\n",
    "print('Puntaje F1 del modelo - Entrenamiento:')\n",
    "print(f1score_knn_train)"
   ]
  },
  {
   "cell_type": "markdown",
   "metadata": {},
   "source": [
    "<h3>\n",
    "    <span style=\"color:brown\">Modelo: Redes Neuronales</span>\n",
    "</h3>"
   ]
  },
  {
   "cell_type": "code",
   "execution_count": 222,
   "metadata": {},
   "outputs": [],
   "source": [
    "# Algunos algoritmos son sensible a los datos con atributos de dimensiones diferentes, para esto se debe escalar los datos \n",
    "scaler = StandardScaler()\n",
    "# Con los datos escalados, ajustamos en modelo con los datos de entrenamieto\n",
    "scaler.fit(x1_train)\n",
    "StandardScaler(copy=True, with_mean=True, with_std=True)\n",
    "X_train = scaler.transform(x1_train)\n",
    "X_test = scaler.transform(x1_test)"
   ]
  },
  {
   "cell_type": "code",
   "execution_count": 223,
   "metadata": {},
   "outputs": [],
   "source": [
    "# definimos el pmc con 13 neuronas en la entrada y primera y segunda capa oculta y el número máximo de iteraciones en 500\n",
    "mlp = MLPClassifier(hidden_layer_sizes=(13,13,13),max_iter=500)"
   ]
  },
  {
   "cell_type": "code",
   "execution_count": 224,
   "metadata": {},
   "outputs": [
    {
     "data": {
      "text/plain": [
       "MLPClassifier(hidden_layer_sizes=(13, 13, 13), max_iter=500)"
      ]
     },
     "execution_count": 224,
     "metadata": {},
     "output_type": "execute_result"
    }
   ],
   "source": [
    "mlp.fit(x1_train,y1_train)"
   ]
  },
  {
   "cell_type": "code",
   "execution_count": 226,
   "metadata": {},
   "outputs": [],
   "source": [
    "# calculamos la predicción con los datos de prueba\n",
    "predictions_red_test   = mlp.predict(x1_test)\n",
    "predictions_red_train = mlp.predict(x1_train)"
   ]
  },
  {
   "cell_type": "markdown",
   "metadata": {},
   "source": [
    "**Cálculos: Exactitud, Precisión, Sensibilidad, Puntaje F1**"
   ]
  },
  {
   "cell_type": "code",
   "execution_count": 252,
   "metadata": {},
   "outputs": [
    {
     "name": "stdout",
     "output_type": "stream",
     "text": [
      "Exactitud del modelo - Prueba:\n",
      "0.8861937198870244\n",
      "Exactitud del modelo - Entrenamiento:\n",
      "0.8860212671688081\n",
      "\n",
      "Precisión del modelo - Prueba:\n",
      "0.8235183055419947\n",
      "Precisión del modelo - Entrenamiento:\n",
      "0.826985625458254\n",
      "\n",
      "Sensibilidad del modelo - Prueba:\n",
      "0.8293239342487743\n",
      "Sensibilidad del modelo - Entrenamiento:\n",
      "0.8348215147786775\n",
      "\n",
      "Puntaje F1 del modelo - Prueba:\n",
      "0.8205794362164847\n",
      "Puntaje F1 del modelo - Entrenamiento:\n",
      "0.8253406385536932\n"
     ]
    }
   ],
   "source": [
    "#Métricas que nos permiten evaluar el rendimiento del modelo construido\n",
    "exactitud_red_test = accuracy_score(predictions_red_test, y1_test)\n",
    "exactitud_red_train  = accuracy_score(predictions_red_train, y1_train)\n",
    "print('Exactitud del modelo - Prueba:')\n",
    "print(exactitud_red_test)\n",
    "print('Exactitud del modelo - Entrenamiento:')\n",
    "print(exactitud_red_train)\n",
    "\n",
    "precision_red_test = precision_score(predictions_red_test, y1_test, average='macro')\n",
    "precision_red_train  = precision_score(predictions_red_train, y1_train, average='macro')\n",
    "print('\\nPrecisión del modelo - Prueba:')\n",
    "print(precision_red_test)\n",
    "print('Precisión del modelo - Entrenamiento:')\n",
    "print(precision_red_train)\n",
    "\n",
    "sensibilidad_red_test = recall_score(predictions_red_test, y1_test, average='macro')\n",
    "sensibilidad_red_train  = recall_score(predictions_red_train, y1_train, average='macro')\n",
    "print('\\nSensibilidad del modelo - Prueba:')\n",
    "print(sensibilidad_red_test)\n",
    "print('Sensibilidad del modelo - Entrenamiento:')\n",
    "print(sensibilidad_red_train)\n",
    "\n",
    "f1score_red_test = f1_score(predictions_red_test, y1_test, average='macro')\n",
    "f1score_red_train  = f1_score(predictions_red_train, y1_train, average='macro')\n",
    "print('\\nPuntaje F1 del modelo - Prueba:')\n",
    "print(f1score_red_test)\n",
    "print('Puntaje F1 del modelo - Entrenamiento:')\n",
    "print(f1score_red_train)"
   ]
  },
  {
   "cell_type": "markdown",
   "metadata": {},
   "source": [
    "**Construcción Tabla Métricas de precisión**"
   ]
  },
  {
   "cell_type": "code",
   "execution_count": null,
   "metadata": {},
   "outputs": [],
   "source": [
    "import pandas as pd\n",
    "df = pd.DataFrame()\n",
    "\n",
    "df['Resultados'] = ['Exactitud-Test', 'Exactitud-Train','Precisión-Test','Precisión-Train', 'Recuerdo-Test','Recuerdo-Train','PuntajeF1-Test','PuntajeF1-Train']\n",
    "df['Regresión Logística'] = [exactitud_log_test,exactitud_log_train,precision_log_test,precision_log_train,sensibilidad_log_test,sensibilidad_log_train,f1score_log_test,f1score_log_train]\n",
    "df['Vecinos Cercanos'] = [exactitud_knn_test,exactitud_knn_train,precision_knn_test,precision_knn_train,sensibilidad_knn_test,sensibilidad_knn_train,f1score_knn_test,f1score_knn_train]\n",
    "df['Redes Neuronales'] = [exactitud_red_test,exactitud_red_train,precision_red_test,precision_red_train,sensibilidad_red_test,sensibilidad_red_train,f1score_red_test,f1score_red_train]\n",
    "\n",
    "import seaborn as sns\n",
    "cm = sns.light_palette(\"#2ECC71\", as_cmap=True)"
   ]
  },
  {
   "cell_type": "markdown",
   "metadata": {},
   "source": [
    "<h1>\n",
    "<span style=\"color:#2ECC71\">Tabla de Resultados - Métricas Precisión</span>\n",
    "</h1>"
   ]
  },
  {
   "cell_type": "code",
   "execution_count": 256,
   "metadata": {},
   "outputs": [
    {
     "data": {
      "text/html": [
       "<style type=\"text/css\">\n",
       "#T_927ff_row0_col1, #T_927ff_row0_col3, #T_927ff_row1_col2, #T_927ff_row1_col3 {\n",
       "  background-color: #2ecc71;\n",
       "  color: #000000;\n",
       "}\n",
       "#T_927ff_row0_col2 {\n",
       "  background-color: #6fd99c;\n",
       "  color: #000000;\n",
       "}\n",
       "#T_927ff_row1_col1 {\n",
       "  background-color: #32cd73;\n",
       "  color: #000000;\n",
       "}\n",
       "#T_927ff_row2_col1 {\n",
       "  background-color: #e1f1e6;\n",
       "  color: #000000;\n",
       "}\n",
       "#T_927ff_row2_col2 {\n",
       "  background-color: #e8f2eb;\n",
       "  color: #000000;\n",
       "}\n",
       "#T_927ff_row2_col3 {\n",
       "  background-color: #e2f1e7;\n",
       "  color: #000000;\n",
       "}\n",
       "#T_927ff_row3_col1 {\n",
       "  background-color: #dff0e5;\n",
       "  color: #000000;\n",
       "}\n",
       "#T_927ff_row3_col2 {\n",
       "  background-color: #84deaa;\n",
       "  color: #000000;\n",
       "}\n",
       "#T_927ff_row3_col3 {\n",
       "  background-color: #d9efe1;\n",
       "  color: #000000;\n",
       "}\n",
       "#T_927ff_row4_col1 {\n",
       "  background-color: #d4eedd;\n",
       "  color: #000000;\n",
       "}\n",
       "#T_927ff_row4_col2, #T_927ff_row7_col3 {\n",
       "  background-color: #ddf0e4;\n",
       "  color: #000000;\n",
       "}\n",
       "#T_927ff_row4_col3 {\n",
       "  background-color: #d1eedc;\n",
       "  color: #000000;\n",
       "}\n",
       "#T_927ff_row5_col1 {\n",
       "  background-color: #d5eede;\n",
       "  color: #000000;\n",
       "}\n",
       "#T_927ff_row5_col2 {\n",
       "  background-color: #6bd899;\n",
       "  color: #000000;\n",
       "}\n",
       "#T_927ff_row5_col3 {\n",
       "  background-color: #c2ead2;\n",
       "  color: #000000;\n",
       "}\n",
       "#T_927ff_row6_col1, #T_927ff_row6_col2, #T_927ff_row6_col3 {\n",
       "  background-color: #ebf3ec;\n",
       "  color: #000000;\n",
       "}\n",
       "#T_927ff_row7_col1 {\n",
       "  background-color: #eaf3ec;\n",
       "  color: #000000;\n",
       "}\n",
       "#T_927ff_row7_col2 {\n",
       "  background-color: #7fdda6;\n",
       "  color: #000000;\n",
       "}\n",
       "</style>\n",
       "<table id=\"T_927ff\">\n",
       "  <thead>\n",
       "    <tr>\n",
       "      <th class=\"blank level0\" >&nbsp;</th>\n",
       "      <th id=\"T_927ff_level0_col0\" class=\"col_heading level0 col0\" >Resultados</th>\n",
       "      <th id=\"T_927ff_level0_col1\" class=\"col_heading level0 col1\" >Regresión Logística</th>\n",
       "      <th id=\"T_927ff_level0_col2\" class=\"col_heading level0 col2\" >Vecinos Cercanos</th>\n",
       "      <th id=\"T_927ff_level0_col3\" class=\"col_heading level0 col3\" >Redes Neuronales</th>\n",
       "    </tr>\n",
       "  </thead>\n",
       "  <tbody>\n",
       "    <tr>\n",
       "      <th id=\"T_927ff_level0_row0\" class=\"row_heading level0 row0\" >0</th>\n",
       "      <td id=\"T_927ff_row0_col0\" class=\"data row0 col0\" >Exactitud-Test</td>\n",
       "      <td id=\"T_927ff_row0_col1\" class=\"data row0 col1\" >0.787340</td>\n",
       "      <td id=\"T_927ff_row0_col2\" class=\"data row0 col2\" >0.882705</td>\n",
       "      <td id=\"T_927ff_row0_col3\" class=\"data row0 col3\" >0.886194</td>\n",
       "    </tr>\n",
       "    <tr>\n",
       "      <th id=\"T_927ff_level0_row1\" class=\"row_heading level0 row1\" >1</th>\n",
       "      <td id=\"T_927ff_row1_col0\" class=\"data row1 col0\" >Exactitud-Train</td>\n",
       "      <td id=\"T_927ff_row1_col1\" class=\"data row1 col1\" >0.785833</td>\n",
       "      <td id=\"T_927ff_row1_col2\" class=\"data row1 col2\" >0.915541</td>\n",
       "      <td id=\"T_927ff_row1_col3\" class=\"data row1 col3\" >0.886021</td>\n",
       "    </tr>\n",
       "    <tr>\n",
       "      <th id=\"T_927ff_level0_row2\" class=\"row_heading level0 row2\" >2</th>\n",
       "      <td id=\"T_927ff_row2_col0\" class=\"data row2 col0\" >Precisión-Test</td>\n",
       "      <td id=\"T_927ff_row2_col1\" class=\"data row2 col1\" >0.720573</td>\n",
       "      <td id=\"T_927ff_row2_col2\" class=\"data row2 col2\" >0.822247</td>\n",
       "      <td id=\"T_927ff_row2_col3\" class=\"data row2 col3\" >0.823518</td>\n",
       "    </tr>\n",
       "    <tr>\n",
       "      <th id=\"T_927ff_level0_row3\" class=\"row_heading level0 row3\" >3</th>\n",
       "      <td id=\"T_927ff_row3_col0\" class=\"data row3 col0\" >Precisión-Train</td>\n",
       "      <td id=\"T_927ff_row3_col1\" class=\"data row3 col1\" >0.721403</td>\n",
       "      <td id=\"T_927ff_row3_col2\" class=\"data row3 col2\" >0.872152</td>\n",
       "      <td id=\"T_927ff_row3_col3\" class=\"data row3 col3\" >0.826986</td>\n",
       "    </tr>\n",
       "    <tr>\n",
       "      <th id=\"T_927ff_level0_row4\" class=\"row_heading level0 row4\" >4</th>\n",
       "      <td id=\"T_927ff_row4_col0\" class=\"data row4 col0\" >Recuerdo-Test</td>\n",
       "      <td id=\"T_927ff_row4_col1\" class=\"data row4 col1\" >0.725550</td>\n",
       "      <td id=\"T_927ff_row4_col2\" class=\"data row4 col2\" >0.827836</td>\n",
       "      <td id=\"T_927ff_row4_col3\" class=\"data row4 col3\" >0.829324</td>\n",
       "    </tr>\n",
       "    <tr>\n",
       "      <th id=\"T_927ff_level0_row5\" class=\"row_heading level0 row5\" >5</th>\n",
       "      <td id=\"T_927ff_row5_col0\" class=\"data row5 col0\" >Recuerdo-Train</td>\n",
       "      <td id=\"T_927ff_row5_col1\" class=\"data row5 col1\" >0.725018</td>\n",
       "      <td id=\"T_927ff_row5_col2\" class=\"data row5 col2\" >0.885236</td>\n",
       "      <td id=\"T_927ff_row5_col3\" class=\"data row5 col3\" >0.834822</td>\n",
       "    </tr>\n",
       "    <tr>\n",
       "      <th id=\"T_927ff_level0_row6\" class=\"row_heading level0 row6\" >6</th>\n",
       "      <td id=\"T_927ff_row6_col0\" class=\"data row6 col0\" >PuntajeF1-Test</td>\n",
       "      <td id=\"T_927ff_row6_col1\" class=\"data row6 col1\" >0.716893</td>\n",
       "      <td id=\"T_927ff_row6_col2\" class=\"data row6 col2\" >0.821006</td>\n",
       "      <td id=\"T_927ff_row6_col3\" class=\"data row6 col3\" >0.820579</td>\n",
       "    </tr>\n",
       "    <tr>\n",
       "      <th id=\"T_927ff_level0_row7\" class=\"row_heading level0 row7\" >7</th>\n",
       "      <td id=\"T_927ff_row7_col0\" class=\"data row7 col0\" >PuntajeF1-Train</td>\n",
       "      <td id=\"T_927ff_row7_col1\" class=\"data row7 col1\" >0.717360</td>\n",
       "      <td id=\"T_927ff_row7_col2\" class=\"data row7 col2\" >0.875137</td>\n",
       "      <td id=\"T_927ff_row7_col3\" class=\"data row7 col3\" >0.825341</td>\n",
       "    </tr>\n",
       "  </tbody>\n",
       "</table>\n"
      ],
      "text/plain": [
       "<pandas.io.formats.style.Styler at 0x15991fcd160>"
      ]
     },
     "execution_count": 256,
     "metadata": {},
     "output_type": "execute_result"
    }
   ],
   "source": [
    "df.style.background_gradient (cmap = cm)"
   ]
  },
  {
   "cell_type": "markdown",
   "metadata": {},
   "source": [
    "<h1 style=\"color:red\">\n",
    "Pregunta 4.-\n",
    "</h1>\n",
    "<h4 style=\"color:#000080\">\n",
    "Use el algoritmo k-medias y corra para 3 a 8 grupos, presente la curva Elbow y comente sobre los grupos:\n",
    "</h4>"
   ]
  },
  {
   "cell_type": "markdown",
   "metadata": {},
   "source": [
    "**Como primer punto, corremos el algoritmo kmedias para 3 grupos con sus respectivos pasos:**"
   ]
  },
  {
   "cell_type": "code",
   "execution_count": 208,
   "metadata": {},
   "outputs": [],
   "source": [
    "data= x_ah.drop('label',axis=1);\n",
    "y = data['Actividad']"
   ]
  },
  {
   "cell_type": "code",
   "execution_count": 180,
   "metadata": {},
   "outputs": [],
   "source": [
    "import numpy as np\n",
    "import pandas as pd\n",
    "import matplotlib.pyplot as plt\n",
    "from sklearn.cluster import KMeans\n",
    "from sklearn.metrics import silhouette_score"
   ]
  },
  {
   "cell_type": "code",
   "execution_count": 181,
   "metadata": {},
   "outputs": [
    {
     "data": {
      "image/png": "[encoded data removed]",
      "text/plain": [
       "<Figure size 432x288 with 1 Axes>"
      ]
     },
     "metadata": {
      "needs_background": "light"
     },
     "output_type": "display_data"
    }
   ],
   "source": [
    "# Evaluación de la calidad del clúster\n",
    "# \n",
    "# Cuando se utiliza técnicas de agrupación en clústeres como k-medias y modelos \n",
    "# gaussianos, se debe especificar el número de grupos. Sin embargo, \n",
    "# para datos de alta dimensión, es difícil determinar el número óptimo de conglomerados.\n",
    "# \n",
    "# Existen algunas formas de tratar de determinar el número de grupos.\n",
    "\n",
    "\n",
    "# Aquí se muestra un gráfico del puntaje (score). En este gráfico el número óptimo de grupos \n",
    "# aparece como un quiebre claro en la curva \n",
    "Nc = range(1, 10)\n",
    "kmeans = [KMeans(n_clusters=i) for i in Nc]\n",
    "kmeans\n",
    "score = [kmeans[i].fit(data).score(data) for i in range(len(kmeans))]\n",
    "score\n",
    "plt.plot(Nc,score)\n",
    "plt.xlabel('Número de clústers')\n",
    "plt.ylabel('Score')\n",
    "plt.title('Elbow Curve')\n",
    "plt.show()"
   ]
  },
  {
   "cell_type": "code",
   "execution_count": 182,
   "metadata": {},
   "outputs": [
    {
     "data": {
      "text/plain": [
       "array([[   0, 5850,    0,    0,    0],\n",
       "       [   0, 6220,    0,    0,    0],\n",
       "       [   0, 5396,    0,    0,    0],\n",
       "       [3087,  178,  691,    0,    0],\n",
       "       [1298,   99, 1256,    0,    0]], dtype=int64)"
      ]
     },
     "execution_count": 182,
     "metadata": {},
     "output_type": "execute_result"
    }
   ],
   "source": [
    "#El parametro k_means representa al número de clústeres a formar, así como el número de centroides a generar.\n",
    "# Del gráfico se puede apreciar que 2, 3 y 4 grupos son posibles en los datos\n",
    "# Por tanto corremos k-medias para 3 clústeres\n",
    "#Utilizaremos el parametro max_iterint, por defecto=300\n",
    "#Número máximo de iteraciones del algoritmo k-means para una sola ejecución.\n",
    "kmeans = KMeans(n_clusters=3).fit(data)\n",
    "centroids = kmeans.cluster_centers_\n",
    "#print(centroids)\n",
    "kmeans.n_features_in_\n",
    "kmeans.n_init\n",
    "kmeans.labels_.shape\n",
    "#kmeans.inertia_\n",
    "#kmeans.n_iter_\n",
    "\n",
    "from sklearn.metrics import confusion_matrix\n",
    "#y_test_pred = knn.predict(X_test)\n",
    "confusion_matrix(y, kmeans.labels_+1)\n",
    "\n",
    "#plt.scatter(y,kmeans.labels_)"
   ]
  },
  {
   "cell_type": "markdown",
   "metadata": {},
   "source": [
    "El resultado son 3 centroides en torno a los cuales se agrupan los puntos y las etiquetas para cada punto que indican a qué cluster pertenece dicho punto"
   ]
  },
  {
   "cell_type": "code",
   "execution_count": 183,
   "metadata": {},
   "outputs": [],
   "source": [
    "centroides = kmeans.cluster_centers_\n",
    "etiquetas = kmeans.labels_"
   ]
  },
  {
   "cell_type": "markdown",
   "metadata": {},
   "source": [
    "Dibujamos ahora los puntos y los centroides, utilizando un color distinto para los puntos de cada cluster"
   ]
  },
  {
   "cell_type": "code",
   "execution_count": 193,
   "metadata": {},
   "outputs": [
    {
     "data": {
      "image/png": "[encoded data removed]",
      "text/plain": [
       "<Figure size 576x360 with 1 Axes>"
      ]
     },
     "metadata": {
      "needs_background": "light"
     },
     "output_type": "display_data"
    }
   ],
   "source": [
    "data = data.values\n",
    "plt.figure(figsize=(8,5))\n",
    "plt.plot(data[etiquetas==0,0],data[etiquetas==0,1],'mo',markersize=3,label='cluster 1')\n",
    "plt.plot(data[etiquetas==1,0],data[etiquetas==1,1],'b.', label='cluster 2')\n",
    "plt.plot(data[etiquetas==2,0],data[etiquetas==2,1],'g.', label='cluster 3')\n",
    "\n",
    "plt.plot(centroides[:,0],centroides[:,1],'r.',markersize=22, label='CENTROIDES')\n",
    "\n",
    "plt.legend(loc='best')\n",
    "plt.show()"
   ]
  },
  {
   "cell_type": "markdown",
   "metadata": {},
   "source": [
    "**Una vez comprendido el proceso a llevar a cabo para correr el algoritmo kmedias con 3 grupos, ahora corrermos el mismo para 4 a 8 grupos:**"
   ]
  },
  {
   "cell_type": "code",
   "execution_count": 201,
   "metadata": {},
   "outputs": [
    {
     "name": "stdout",
     "output_type": "stream",
     "text": [
      "Para n_clusters = 4 El silhouette_score promedio es: 0.7639483750764428\n",
      "Para n_clusters = 5 El silhouette_score promedio es: 0.752162862370265\n",
      "Para n_clusters = 6 El silhouette_score promedio es: 0.7334139941718613\n",
      "Para n_clusters = 7 El silhouette_score promedio es: 0.7377050643062928\n",
      "Para n_clusters = 8 El silhouette_score promedio es: 0.6124051728608143\n"
     ]
    },
    {
     "data": {
      "image/png": "[encoded data removed]",
      "text/plain": [
       "<Figure size 576x504 with 1 Axes>"
      ]
     },
     "metadata": {
      "needs_background": "light"
     },
     "output_type": "display_data"
    },
    {
     "data": {
      "image/png": "[encoded data removed]",
      "text/plain": [
       "<Figure size 576x504 with 1 Axes>"
      ]
     },
     "metadata": {
      "needs_background": "light"
     },
     "output_type": "display_data"
    },
    {
     "data": {
      "image/png": "[encoded data removed]",
      "text/plain": [
       "<Figure size 576x504 with 1 Axes>"
      ]
     },
     "metadata": {
      "needs_background": "light"
     },
     "output_type": "display_data"
    },
    {
     "data": {
      "image/png": "[encoded data removed]",
      "text/plain": [
       "<Figure size 576x504 with 1 Axes>"
      ]
     },
     "metadata": {
      "needs_background": "light"
     },
     "output_type": "display_data"
    },
    {
     "data": {
      "image/png": "[encoded data removed]",
      "text/plain": [
       "<Figure size 576x504 with 1 Axes>"
      ]
     },
     "metadata": {
      "needs_background": "light"
     },
     "output_type": "display_data"
    }
   ],
   "source": [
    "# Otro método, o complementario al score es utilizar los valores de silueta para juzgar la calidad de los clústeres. \n",
    "# El valor de la silueta de una observación es una medida normalizada (entre -1 y +1) \n",
    "# de qué tan cerca está esa observación de otras observaciones en el mismo grupo, \n",
    "# en comparación con las observaciones en diferentes grupos.\n",
    "\n",
    "# Una gráfica de silueta muestra el valor de silueta de cada observación, agrupado por racimo\n",
    "# Los esquemas de agrupación en clústeres en los que la mayoría de las observaciones\n",
    "#  tienen un alto valor de silueta son deseables.\n",
    "\n",
    "from sklearn.metrics import silhouette_samples, silhouette_score\n",
    "import matplotlib.cm as cm\n",
    "\n",
    "range_n_clusters = [4, 5, 6, 7, 8]\n",
    "\n",
    "for n_clusters in range_n_clusters:\n",
    "    # Creamos un subplot\n",
    "    fig, (ax1) = plt.subplots(1, 1)\n",
    "    fig.set_size_inches(8, 7)\n",
    "\n",
    "    ax1.set_xlim([-0.1, 1])\n",
    "    ax1.set_ylim([0, len(data) + (n_clusters + 1) * 10])\n",
    "\n",
    "    clusterer = KMeans(n_clusters=n_clusters, random_state=10)\n",
    "    cluster_labels = clusterer.fit_predict(data)\n",
    "\n",
    "    silhouette_avg = silhouette_score(data, cluster_labels)\n",
    "    print(\"Para n_clusters =\", n_clusters,\n",
    "          \"El silhouette_score promedio es:\", silhouette_avg)\n",
    "\n",
    "    # Calculo del score de la silhouette para cada muestra\n",
    "    sample_silhouette_values = silhouette_samples(data, cluster_labels)\n",
    "\n",
    "    y_lower = 10\n",
    "    for i in range(n_clusters):\n",
    "        ith_cluster_silhouette_values = \\\n",
    "            sample_silhouette_values[cluster_labels == i]\n",
    "\n",
    "        ith_cluster_silhouette_values.sort()\n",
    "\n",
    "        size_cluster_i = ith_cluster_silhouette_values.shape[0]\n",
    "        y_upper = y_lower + size_cluster_i\n",
    "\n",
    "        color = cm.nipy_spectral(float(i) / n_clusters)\n",
    "        ax1.fill_betweenx(np.arange(y_lower, y_upper),\n",
    "                          0, ith_cluster_silhouette_values,\n",
    "                          facecolor=color, edgecolor=color, alpha=0.7)\n",
    "\n",
    "        ax1.text(-0.05, y_lower + 0.5 * size_cluster_i, str(i))\n",
    "        y_lower = y_upper + 10  # 10 for the 0 samples\n",
    "\n",
    "    ax1.set_title(\"silhouette plot para los various grupos.\")\n",
    "    ax1.set_xlabel(\"Valores de coeficientes silhouette\")\n",
    "    ax1.set_ylabel(\"clúster label\")\n",
    "\n",
    "    # Linea vertical para el promedio de silhouette score de todos los valores\n",
    "    ax1.axvline(x=silhouette_avg, color=\"red\", linestyle=\"--\")\n",
    "\n",
    "    ax1.set_yticks([])  # \n",
    "    ax1.set_xticks([-0.1, 0, 0.2, 0.4, 0.6, 0.8, 1])\n",
    "\n",
    "    # Etiquetando los clusters\n",
    "    centers = clusterer.cluster_centers_\n",
    "\n",
    "\n",
    "    plt.suptitle((\"Análisis Silhouette para KMeans\"\n",
    "                  \"con n_clusters = %d\" % n_clusters),\n",
    "                 fontsize=14, fontweight='bold')\n",
    "\n",
    "plt.show()"
   ]
  },
  {
   "cell_type": "markdown",
   "metadata": {},
   "source": [
    "<h1 style=\"color:red\">\n",
    "Pregunta 5.-\n",
    "</h1>\n",
    "<h4 style=\"color:#000080\">\n",
    "Use los datos de salida que dispone para comparar  el resultado de k-medias para 5 con los 5 que existen. Observe que tiene que ubicar que grupo de k-medias corresponde con qué salida:\n",
    "</h4>"
   ]
  },
  {
   "cell_type": "code",
   "execution_count": 17,
   "metadata": {},
   "outputs": [
    {
     "data": {
      "text/plain": [
       "array([[5850,    0,    0,    0,    0],\n",
       "       [6220,    0,    0,    0,    0],\n",
       "       [5396,    0,    0,    0,    0],\n",
       "       [  55,  457, 1708,  143, 1593],\n",
       "       [  59, 1002,  457,  203,  932]], dtype=int64)"
      ]
     },
     "execution_count": 17,
     "metadata": {},
     "output_type": "execute_result"
    }
   ],
   "source": [
    "#El parametro k_means representa al número de clústeres a formar, así como el número de centroides a generar.\n",
    "# Para el presente ejercicio se usarán 5 grupos, debido a que existen 5 clases\n",
    "#Utilizaremos el parametro max_iterint, por defecto=300\n",
    "#Número máximo de iteraciones del algoritmo k-means para una sola ejecución.\n",
    "kmeans = KMeans(n_clusters=5).fit(data)\n",
    "centroids = kmeans.cluster_centers_\n",
    "#print(centroids)\n",
    "kmeans.n_features_in_\n",
    "kmeans.n_init\n",
    "kmeans.labels_.shape\n",
    "kmeans.inertia_\n",
    "kmeans.n_iter_\n",
    "\n",
    "from sklearn.metrics import confusion_matrix\n",
    "\n",
    "confusion_matrix(y, kmeans.labels_+1)"
   ]
  },
  {
   "cell_type": "code",
   "execution_count": 18,
   "metadata": {},
   "outputs": [],
   "source": [
    "centroides = kmeans.cluster_centers_\n",
    "etiquetas = kmeans.labels_"
   ]
  },
  {
   "cell_type": "code",
   "execution_count": 27,
   "metadata": {},
   "outputs": [
    {
     "data": {
      "image/png": "[encoded data removed]",
      "text/plain": [
       "<Figure size 576x360 with 1 Axes>"
      ]
     },
     "metadata": {
      "needs_background": "light"
     },
     "output_type": "display_data"
    }
   ],
   "source": [
    "#Graficamos el diagrama de dispersión con los distintos grupos establecidos\n",
    "data = data.values\n",
    "plt.figure(figsize=(8,5))\n",
    "plt.plot(data[etiquetas==0,0],data[etiquetas==0,1],'mo',markersize=3,label='cluster 1')\n",
    "plt.plot(data[etiquetas==1,0],data[etiquetas==1,1],'b.', label='cluster 2')\n",
    "plt.plot(data[etiquetas==2,0],data[etiquetas==2,1],'g.', label='cluster 3')\n",
    "plt.plot(data[etiquetas==3,0],data[etiquetas==3,1],'o',markersize=3, label='cluster 4')\n",
    "plt.plot(data[etiquetas==4,0],data[etiquetas==4,1],'.', label='cluster 5')\n",
    "\n",
    "plt.plot(centroides[:,0],centroides[:,1],'r.',markersize=22, label='CENTROIDES')\n",
    "\n",
    "plt.legend(loc='best')\n",
    "plt.show()"
   ]
  },
  {
   "cell_type": "code",
   "execution_count": 203,
   "metadata": {},
   "outputs": [],
   "source": [
    "kmeans = KMeans(n_clusters=5).fit(data)\n",
    "centroids = kmeans.cluster_centers_"
   ]
  },
  {
   "cell_type": "code",
   "execution_count": 205,
   "metadata": {},
   "outputs": [],
   "source": [
    "from mpl_toolkits.mplot3d import Axes3D\n",
    "from mpl_toolkits.mplot3d import axes3d\n",
    "# Definimos 5 categorías, 5 GRUPOS\n",
    "categ=['0','1','2','3','4','5']"
   ]
  },
  {
   "cell_type": "code",
   "execution_count": 211,
   "metadata": {},
   "outputs": [
    {
     "data": {
      "text/html": [
       "<div>\n",
       "<style scoped>\n",
       "    .dataframe tbody tr th:only-of-type {\n",
       "        vertical-align: middle;\n",
       "    }\n",
       "\n",
       "    .dataframe tbody tr th {\n",
       "        vertical-align: top;\n",
       "    }\n",
       "\n",
       "    .dataframe thead th {\n",
       "        text-align: right;\n",
       "    }\n",
       "</style>\n",
       "<table border=\"1\" class=\"dataframe\">\n",
       "  <thead>\n",
       "    <tr style=\"text-align: right;\">\n",
       "      <th></th>\n",
       "      <th>Grupo</th>\n",
       "      <th>cantidad</th>\n",
       "    </tr>\n",
       "  </thead>\n",
       "  <tbody>\n",
       "    <tr>\n",
       "      <th>0</th>\n",
       "      <td>0</td>\n",
       "      <td>NaN</td>\n",
       "    </tr>\n",
       "    <tr>\n",
       "      <th>1</th>\n",
       "      <td>1</td>\n",
       "      <td>5850.0</td>\n",
       "    </tr>\n",
       "    <tr>\n",
       "      <th>2</th>\n",
       "      <td>2</td>\n",
       "      <td>6220.0</td>\n",
       "    </tr>\n",
       "    <tr>\n",
       "      <th>3</th>\n",
       "      <td>3</td>\n",
       "      <td>5396.0</td>\n",
       "    </tr>\n",
       "    <tr>\n",
       "      <th>4</th>\n",
       "      <td>4</td>\n",
       "      <td>3956.0</td>\n",
       "    </tr>\n",
       "    <tr>\n",
       "      <th>5</th>\n",
       "      <td>5</td>\n",
       "      <td>2653.0</td>\n",
       "    </tr>\n",
       "  </tbody>\n",
       "</table>\n",
       "</div>"
      ],
      "text/plain": [
       "  Grupo  cantidad\n",
       "0     0       NaN\n",
       "1     1    5850.0\n",
       "2     2    6220.0\n",
       "3     3    5396.0\n",
       "4     4    3956.0\n",
       "5     5    2653.0"
      ]
     },
     "execution_count": 211,
     "metadata": {},
     "output_type": "execute_result"
    }
   ],
   "source": [
    "#Podemos ver cada uno de los clusters con su frecuencia de acuerdo a los grupos definidos (categ). Se han definido 5 grupos.\n",
    "copy =  pd.DataFrame()\n",
    "copy['categoria']=data['Actividad'].values\n",
    "cantidadGrupo =  pd.DataFrame()\n",
    "cantidadGrupo['Grupo']=categ\n",
    "cantidadGrupo['cantidad']=copy.groupby('categoria').size()\n",
    "cantidadGrupo\n",
    "#Dataframe: características encontradas en cada uno de los clusters:"
   ]
  },
  {
   "cell_type": "code",
   "execution_count": 14,
   "metadata": {},
   "outputs": [
    {
     "data": {
      "text/html": [
       "<div>\n",
       "<style scoped>\n",
       "    .dataframe tbody tr th:only-of-type {\n",
       "        vertical-align: middle;\n",
       "    }\n",
       "\n",
       "    .dataframe tbody tr th {\n",
       "        vertical-align: top;\n",
       "    }\n",
       "\n",
       "    .dataframe thead th {\n",
       "        text-align: right;\n",
       "    }\n",
       "</style>\n",
       "<table border=\"1\" class=\"dataframe\">\n",
       "  <thead>\n",
       "    <tr style=\"text-align: right;\">\n",
       "      <th></th>\n",
       "      <th>Actividad</th>\n",
       "    </tr>\n",
       "    <tr>\n",
       "      <th>label</th>\n",
       "      <th></th>\n",
       "    </tr>\n",
       "  </thead>\n",
       "  <tbody>\n",
       "    <tr>\n",
       "      <th>bailando</th>\n",
       "      <td>2653</td>\n",
       "    </tr>\n",
       "    <tr>\n",
       "      <th>caminando</th>\n",
       "      <td>5396</td>\n",
       "    </tr>\n",
       "    <tr>\n",
       "      <th>corriendo</th>\n",
       "      <td>3956</td>\n",
       "    </tr>\n",
       "    <tr>\n",
       "      <th>de pie</th>\n",
       "      <td>6220</td>\n",
       "    </tr>\n",
       "    <tr>\n",
       "      <th>sentado</th>\n",
       "      <td>5850</td>\n",
       "    </tr>\n",
       "  </tbody>\n",
       "</table>\n",
       "</div>"
      ],
      "text/plain": [
       "           Actividad\n",
       "label               \n",
       "bailando        2653\n",
       "caminando       5396\n",
       "corriendo       3956\n",
       "de pie          6220\n",
       "sentado         5850"
      ]
     },
     "execution_count": 14,
     "metadata": {},
     "output_type": "execute_result"
    }
   ],
   "source": [
    "#Visualizamos las clases del dataframe de orígen, en el cual ya están definidas las clases. \n",
    "#Comparamos la data de los clusters con dicho dataframe, para determinar qué grupo de kmedias representa a cada actividades humana\n",
    "y_ah.groupby('label').count()"
   ]
  },
  {
   "cell_type": "code",
   "execution_count": 202,
   "metadata": {},
   "outputs": [],
   "source": [
    "#Posterior a comparar las características de ambos dataframes se llega a la siguiente respuesta:"
   ]
  },
  {
   "cell_type": "markdown",
   "metadata": {},
   "source": [
    "<h4 style=\"color:black\">\n",
    "<ul>\n",
    "  <li>Grupo 1: <p style=\"color:#00aae4\">Sentado -> 5850</p></li>\n",
    "    <br>\n",
    "  <li>Grupo 2: <p style=\"color:#00aae4\">De pie -> 6220</p></li>\n",
    "    <br>\n",
    "  <li>Grupo 3: <p style=\"color:#00aae4\">Caminando -> 5396</p></li>\n",
    "    <br>\n",
    "  <li>Grupo 4: <p style=\"color:#00aae4\">Corriendo -> 3056</p></li>\n",
    "    <br>\n",
    "  <li>Grupo 5: <p style=\"color:#00aae4\"> Bailando -> 2653</p></li>\n",
    "    \n",
    "</ul>\n",
    "</h4>"
   ]
  },
  {
   "cell_type": "markdown",
   "metadata": {},
   "source": [
    "<h1 style=\"color:red\">\n",
    "Pregunta 6.-\n",
    "</h1>\n",
    "<h4 style=\"color:#000080\">\n",
    "Presente cada modelo (con sus  parámetros) y comente:\n",
    "</h4>"
   ]
  },
  {
   "cell_type": "markdown",
   "metadata": {},
   "source": [
    "<h3>\n",
    "<span style=\"color:green\">Modelo: Regresión Logística</span>\n",
    "</h3>"
   ]
  },
  {
   "cell_type": "markdown",
   "metadata": {},
   "source": [
    "La aplicación del algoritmo de regresión logística en el presente caso de estudio de actividad humana permite tomar varias entradas y hace uso de datos de acelariones para realizar predicciones sobre los resultados, como predecir entre diferentes actividades humanas, como bailar, caminar, correr, estar de pie y sentarse."
   ]
  },
  {
   "cell_type": "code",
   "execution_count": 63,
   "metadata": {},
   "outputs": [
    {
     "data": {
      "text/plain": [
       "LogisticRegression(max_iter=10000, solver='saga')"
      ]
     },
     "execution_count": 63,
     "metadata": {},
     "output_type": "execute_result"
    }
   ],
   "source": [
    "from sklearn.linear_model import LogisticRegression\n",
    "# El parámetro max_iter nos permite definir el número de interaciones a 10000\n",
    "# solver es el parámetro que permite la optimización del algoritmo\n",
    "# Para conjuntos de datos grandes se utiliza 'sag' y 'saga' \n",
    "logisticRegr = LogisticRegression(max_iter=10000, solver='saga')\n",
    "# Entrenamos el modelo de regresión logística para muchas clases porque detrás corre uno versus todos\n",
    "logisticRegr.fit(x1_train, y1_train)"
   ]
  },
  {
   "cell_type": "code",
   "execution_count": 64,
   "metadata": {},
   "outputs": [
    {
     "data": {
      "text/plain": [
       "array([3, 3, 2, 2, 1, 1, 4, 1, 2, 3], dtype=int64)"
      ]
     },
     "execution_count": 64,
     "metadata": {},
     "output_type": "execute_result"
    }
   ],
   "source": [
    "# Retornamos un arreglo NumPy\n",
    "# Predicimos para una observación (una registro o imagen)\n",
    "logisticRegr.predict(x1_test[0].reshape(1,-1))\n",
    "logisticRegr.predict(x1_test[0:10])"
   ]
  },
  {
   "cell_type": "code",
   "execution_count": 117,
   "metadata": {},
   "outputs": [],
   "source": [
    "#Una vez entrenado el modelo, se pueden obtener predicciones para nuevos datos. \n",
    "#Los modelos de regresión logística devuelven la probabilidad de pertenecer a la clase de referencia\n",
    "predictions_log_test = logisticRegr.predict(x1_test)\n",
    "predictions_log_train = logisticRegr.predict(x1_train)"
   ]
  },
  {
   "cell_type": "code",
   "execution_count": 122,
   "metadata": {},
   "outputs": [
    {
     "name": "stdout",
     "output_type": "stream",
     "text": [
      "Intercept: [-3.05664983 -4.96177706  3.56774902  2.1090105   2.34166738]\n",
      "Coeficiente: [('BodyAccYPowerBand3', -0.18481245091248402), ('BodyAccZPowerBand1', 0.5205617884584546), ('BodyAccZPowerBand2', -0.21974640824146577), ('BodyAccZPowerBand3', -1.2982481957172791), ('Actividad', 0.06199913175704054)]\n",
      "Accuracy de entrenamiento: 0.7858329641116526\n"
     ]
    }
   ],
   "source": [
    "# Información del modelo\n",
    "print(\"Intercept:\", logisticRegr.intercept_)\n",
    "print(\"Coeficiente:\", list(zip(data.columns, logisticRegr.coef_.flatten(), )))\n",
    "print(\"Accuracy de entrenamiento:\", logisticRegr.score(x1_train, y1_train))"
   ]
  },
  {
   "cell_type": "code",
   "execution_count": 147,
   "metadata": {},
   "outputs": [
    {
     "data": {
      "image/png": "[encoded data removed]",
      "text/plain": [
       "<Figure size 360x360 with 1 Axes>"
      ]
     },
     "metadata": {
      "needs_background": "light"
     },
     "output_type": "display_data"
    }
   ],
   "source": [
    "#La regresión logística predice el resultado de una variable categórica en función de un conjunto de variables independientes. \n",
    "#Puede obtenerse en seaborn añadiendo el argumento logistic = True a la función\n",
    "sns.lmplot(x = \"BodyAccZPowerBand1\", y = \"Actividad\", data = X, logistic = True);"
   ]
  },
  {
   "cell_type": "markdown",
   "metadata": {},
   "source": [
    "<h3>\n",
    "<span style=\"color:blue\">Modelo: KNN</span>\n",
    "</h3>\n"
   ]
  },
  {
   "cell_type": "markdown",
   "metadata": {},
   "source": [
    "La aplicación del algoritmo KNN en el presente problema de clasificación de actividad humana se baso en la proximidad para hacer clasificaciones o predicciones sobre la agrupación un conjunto de datos de entrada, como lo son datos de aceleraciones."
   ]
  },
  {
   "cell_type": "code",
   "execution_count": 69,
   "metadata": {},
   "outputs": [
    {
     "name": "stdout",
     "output_type": "stream",
     "text": [
      "porcentaje de aciertos entrenamiento:  0.92\n",
      "porcentaje de aciertos Prueba:         0.88\n"
     ]
    }
   ],
   "source": [
    "from sklearn.neighbors import KNeighborsClassifier\n",
    "#utilizamos la clase KNeighborsClassifier de SciKit Learn puesto que nuestras etiquetas son valores discretos\n",
    "#(actividades humanas numeradas del 1 al 5).\n",
    "# El parámetro n_neighbors debe ser el del número de vecinos o K\n",
    "# p,metric son parámetros que definen la distancia que utilizará el modelo para verificar los vecinos del dato que se va a predecir.\n",
    "#Por defecto la primera es “p=2” y la segunda es “metric=minkowski”.\n",
    "knn = KNeighborsClassifier(n_neighbors = 5, p=2, metric = 'minkowski')\n",
    "#Entrenamos el modelo de vecinos cercanos\n",
    "knn.fit(x1_train, y1_train)\n",
    "print('porcentaje de aciertos entrenamiento: %5.2f' %knn.score(x1_train, y1_train))\n",
    "print('porcentaje de aciertos Prueba:        %5.2f' %knn.score(x1_test, y1_test))"
   ]
  },
  {
   "cell_type": "code",
   "execution_count": 70,
   "metadata": {},
   "outputs": [],
   "source": [
    "predictions_knn_test = knn.predict(x1_test)\n",
    "predictions_knn_train = knn.predict(x1_train)"
   ]
  },
  {
   "cell_type": "code",
   "execution_count": 169,
   "metadata": {},
   "outputs": [
    {
     "data": {
      "image/png": "[encoded data removed]",
      "text/plain": [
       "<Figure size 432x288 with 1 Axes>"
      ]
     },
     "metadata": {
      "needs_background": "light"
     },
     "output_type": "display_data"
    }
   ],
   "source": [
    "from matplotlib.colors import ListedColormap\n",
    "h = .02  # step size in the mesh\n",
    "n_neighbors = 5\n",
    "# Create color maps\n",
    "cmap_light = ListedColormap(['#FFAAAA', '#ffcc99', '#ffffb3','#b3ffff','#c2f0c2'])\n",
    "cmap_bold = ListedColormap(['#FF0000', '#ff9933','#FFFF00','#00ffff','#00FF00'])\n",
    "\n",
    "# we create an instance of Neighbours Classifier and fit the data.\n",
    "clf = KNeighborsClassifier(n_neighbors = 5, weights='distance')\n",
    "clf.fit(X, y)\n",
    "\n",
    "# Plot the decision boundary. For that, we will assign a color to each\n",
    "# point in the mesh [x_min, x_max]x[y_min, y_max].\n",
    "x_min, x_max = X[:, 0].min() - 1, X[:, 0].max() + 1\n",
    "y_min, y_max = X[:, 1].min() - 1, X[:, 1].max() + 1\n",
    "\n",
    "xx, yy = np.meshgrid(np.arange(x_min, x_max, h),\n",
    "                         np.arange(y_min, y_max, h))\n",
    "Z = clf.predict(np.c_[xx.ravel(), yy.ravel()])\n",
    "\n",
    "# Put the result into a color plot\n",
    "Z = Z.reshape(xx.shape)\n",
    "plt.figure()\n",
    "plt.pcolormesh(xx, yy, Z, cmap=cmap_light)\n",
    "\n",
    "# Plot also the training points\n",
    "plt.scatter(X[:, 0], X[:, 1], c=y, cmap=cmap_bold,\n",
    "                edgecolor='k', s=20)\n",
    "plt.xlim(xx.min(), xx.max())\n",
    "plt.ylim(yy.min(), yy.max())\n",
    "    \n",
    "patch0 = mpatches.Patch(color='#FF0000', label='1')\n",
    "patch1 = mpatches.Patch(color='#ff9933', label='2')\n",
    "patch2 = mpatches.Patch(color='#FFFF00', label='3')\n",
    "patch3 = mpatches.Patch(color='#00ffff', label='4')\n",
    "patch4 = mpatches.Patch(color='#00FF00', label='5')\n",
    "plt.legend(handles=[patch0, patch1, patch2, patch3,patch4])\n",
    "\n",
    "    \n",
    "plt.title(\"5-Class classification (k = %i, weights = '%s')\"\n",
    "              % (n_neighbors, 'distance'))\n",
    "\n",
    "plt.show()"
   ]
  },
  {
   "cell_type": "markdown",
   "metadata": {},
   "source": [
    "<h3>\n",
    "    <span style=\"color:brown\">Modelo: Redes Neuronales</span>\n",
    "</h3>\n"
   ]
  },
  {
   "cell_type": "markdown",
   "metadata": {},
   "source": [
    "La aplicacion del modelo de redes neuronales - perceptron multicapa en el presente caso de estudio permite autoadaptar los pesos de las neuronas de las capas intermedias para aprender la relación que existe entre un conjunto de patrones dados como ejemplo y sus salidas correspondientes."
   ]
  },
  {
   "cell_type": "code",
   "execution_count": 77,
   "metadata": {},
   "outputs": [],
   "source": [
    "# Algunos algoritmos son sensible a los datos con atributos de dimensiones diferentes, para esto se debe escalar los datos \n",
    "scaler = StandardScaler()\n",
    "# Con los datos escalados, ajustamos en modelo con los datos de entrenamieto\n",
    "scaler.fit(x1_train)\n",
    "StandardScaler(copy=True, with_mean=True, with_std=True)\n",
    "X_train = scaler.transform(x1_train)\n",
    "X_test = scaler.transform(x1_test)"
   ]
  },
  {
   "cell_type": "code",
   "execution_count": 198,
   "metadata": {},
   "outputs": [
    {
     "name": "stdout",
     "output_type": "stream",
     "text": [
      "{1: 5850, 2: 6220, 3: 5396, 4: 3956, 5: 2653}\n"
     ]
    },
    {
     "data": {
      "image/png": "[encoded data removed]",
      "text/plain": [
       "<Figure size 432x288 with 1 Axes>"
      ]
     },
     "metadata": {
      "needs_background": "light"
     },
     "output_type": "display_data"
    }
   ],
   "source": [
    "# Para resolver un problema de clasificación, es importante que las clases tengan un número parecido de registros. \n",
    "# un desvalanceo en el número de datos puede llevar a resultados errados\n",
    "a = dict(Counter(y))\n",
    "print(a)\n",
    "n, bins, patches = plt.hist(x=y, bins='auto', color='#0504aa',\n",
    "                            alpha=0.7, rwidth=0.85)"
   ]
  },
  {
   "cell_type": "code",
   "execution_count": 78,
   "metadata": {},
   "outputs": [],
   "source": [
    "#El parámetro max_iter define el número máximo de iteraciones.\n",
    "#El solucionador itera hasta la convergencia (determinada por 'tol') o este número de iteraciones.\n",
    "#El parámetro hidden_layer_sizes representa una tupla, longitud = n_layers-2\n",
    "#Donde el elemento i-ésimo representa el número de neuronas en la i-ésima capa oculta.\n",
    "\n",
    "#Definimos el pmc con 13 neuronas en la entrada y primera y segunda capa oculta y el número máximo de iteraciones en 500\n",
    "mlp = MLPClassifier(hidden_layer_sizes=(13,13,13),max_iter=500)"
   ]
  },
  {
   "cell_type": "code",
   "execution_count": 79,
   "metadata": {},
   "outputs": [
    {
     "data": {
      "text/plain": [
       "MLPClassifier(hidden_layer_sizes=(13, 13, 13), max_iter=500)"
      ]
     },
     "execution_count": 79,
     "metadata": {},
     "output_type": "execute_result"
    }
   ],
   "source": [
    "mlp.fit(x1_train,y1_train)"
   ]
  },
  {
   "cell_type": "code",
   "execution_count": 80,
   "metadata": {},
   "outputs": [],
   "source": [
    "# calculamos la predicción con los datos de prueba\n",
    "predictions_red_test   = mlp.predict(x1_test)\n",
    "predictions_red_train = mlp.predict(x1_train)"
   ]
  },
  {
   "cell_type": "code",
   "execution_count": 199,
   "metadata": {},
   "outputs": [
    {
     "data": {
      "text/plain": [
       "4"
      ]
     },
     "execution_count": 199,
     "metadata": {},
     "output_type": "execute_result"
    }
   ],
   "source": [
    "# coefs_ es la lista de la matriz de pesos, \n",
    "# la matriz de peso en el índice i representa los pesos entre la capa i y la capa i + 1\n",
    "len(mlp.coefs_)\n",
    "#mlp.coefs_"
   ]
  },
  {
   "cell_type": "code",
   "execution_count": 200,
   "metadata": {},
   "outputs": [
    {
     "data": {
      "text/plain": [
       "array([[ 2.88031964e-01, -2.46631313e-01,  2.72377224e-01,\n",
       "        -2.35702433e-01,  3.19270441e-01,  1.11622903e-01,\n",
       "        -4.40593850e-01, -1.84740039e-01, -2.58583363e-01,\n",
       "        -1.18683644e-01,  3.57412454e-01,  4.16590584e-01,\n",
       "         3.58081186e-01],\n",
       "       [ 4.39735113e-01,  1.24843479e-01, -3.28067068e-01,\n",
       "        -4.80910661e-02, -3.60246154e-01,  2.89962891e-01,\n",
       "         3.96605350e-01, -6.86129080e-02,  3.64174973e-01,\n",
       "         3.72578918e-01, -2.21332602e-01, -5.33693353e-01,\n",
       "         1.10844940e-01],\n",
       "       [ 3.59175044e-01, -3.71888843e-01, -1.60854964e-02,\n",
       "         2.29900153e-02, -8.36035307e-02, -3.56859564e-01,\n",
       "         5.14210922e-01,  5.97477033e-02,  2.30869523e-01,\n",
       "        -8.62964390e-02,  2.32465093e-01, -1.03430398e-01,\n",
       "        -4.38888715e-01],\n",
       "       [-7.50339498e-01, -2.02911440e-02,  3.11067200e-01,\n",
       "        -4.48321694e-01,  1.32244753e-01,  3.35148567e-01,\n",
       "         2.15190450e-01, -3.84528994e-01, -4.08559018e-01,\n",
       "        -8.81129546e-02,  1.33495219e-01,  8.27462495e-02,\n",
       "        -6.70258881e-02],\n",
       "       [ 2.01768626e-01,  4.17005567e-01,  1.72334258e-02,\n",
       "        -2.30937117e-01, -2.40034304e-01,  4.70853089e-01,\n",
       "         1.53509427e-01,  2.60939269e-01, -5.23879695e-01,\n",
       "        -4.73544352e-02, -1.97802261e-01,  1.95704433e-01,\n",
       "         3.95319814e-02],\n",
       "       [ 1.78958813e-01,  4.60854758e-01, -7.12824861e-01,\n",
       "         5.59873398e-02, -9.49580509e-02, -4.56296226e-01,\n",
       "         7.08525168e-02,  1.81649063e-01, -3.82464110e-01,\n",
       "        -1.59260244e-03,  2.10066803e-01, -8.18828543e-02,\n",
       "        -2.76085559e-01],\n",
       "       [ 1.72235916e-01, -2.88169102e-01, -6.00495540e-01,\n",
       "         1.66349075e-01, -2.70971239e-02,  2.37558190e-01,\n",
       "         5.67928073e-01,  1.92741214e-02,  7.54999227e-02,\n",
       "         5.02812600e-01, -2.71912052e-03,  9.29191699e-02,\n",
       "        -3.71860726e-01],\n",
       "       [-6.05425621e-01,  4.70627839e-01,  5.43365957e-01,\n",
       "         4.94842327e-02, -1.09700740e-02,  6.83224412e-02,\n",
       "         5.76714254e-01,  1.55022673e-01,  3.52599362e-01,\n",
       "         5.02510302e-02,  1.27566237e-01, -7.95403295e-01,\n",
       "         7.93497540e-01],\n",
       "       [ 1.74754809e-01, -6.35788029e-02,  2.89470658e-01,\n",
       "         3.32976804e-01,  3.46438875e-01, -8.04616424e-02,\n",
       "        -2.07655574e-01, -5.53391138e-01, -4.93137451e-01,\n",
       "         3.41701259e-01,  2.60023689e-01, -1.64474446e+00,\n",
       "        -1.21280787e-01],\n",
       "       [ 4.13720598e-01,  1.75566254e-01,  2.99356391e-01,\n",
       "         5.02445526e-01,  4.11505562e-01,  1.61500909e-01,\n",
       "        -1.58954195e-01, -4.91485706e-01,  2.97595496e-01,\n",
       "        -3.60722329e-01, -1.01819206e-01, -2.07727862e-01,\n",
       "         1.99350802e-01],\n",
       "       [ 2.03823035e-01, -1.05455212e-01,  3.32228824e-02,\n",
       "        -7.40057810e-01, -2.39982851e-01,  3.68360149e-01,\n",
       "        -4.36697179e-01, -3.92154766e-01, -3.65148371e-01,\n",
       "        -3.30569547e-01, -1.23277073e-01,  8.17685135e-02,\n",
       "         8.26939008e-02],\n",
       "       [-4.45172877e-01, -3.54310097e-01,  1.78143155e-01,\n",
       "         2.92299498e-01,  1.33694541e-01, -1.33791673e-01,\n",
       "         4.36576115e-01,  1.28020313e-01,  5.80406093e-02,\n",
       "         3.22618383e-01, -8.30004197e-02, -3.16725563e-01,\n",
       "         4.43794763e-01],\n",
       "       [-3.54744936e+00,  1.47615068e-01, -3.10820131e-01,\n",
       "         4.08352717e-01, -2.10340572e-01,  4.87920172e-01,\n",
       "        -2.16162288e-01,  1.23814563e+00,  4.41728569e-01,\n",
       "        -8.10095411e-02, -4.66216877e-01, -2.67661064e-62,\n",
       "         5.62156625e-02]])"
      ]
     },
     "execution_count": 200,
     "metadata": {},
     "output_type": "execute_result"
    }
   ],
   "source": [
    "mlp.coefs_[1]"
   ]
  },
  {
   "cell_type": "markdown",
   "metadata": {},
   "source": [
    "<h3>\n",
    "    <span style=\"color:red\">Modelo: K Means</span>\n",
    "</h3>\n"
   ]
  },
  {
   "cell_type": "markdown",
   "metadata": {},
   "source": [
    "La aplicacion del algoritmo k-means en el presente caso de estudió toma los datos del dataframe propuesto y asigna un grupo o clúster de manera iterativa, con el propósito de asignar cada punto a un grupo en base a la similitud de sus características."
   ]
  },
  {
   "cell_type": "code",
   "execution_count": 194,
   "metadata": {},
   "outputs": [
    {
     "data": {
      "text/plain": [
       "18"
      ]
     },
     "execution_count": 194,
     "metadata": {},
     "output_type": "execute_result"
    }
   ],
   "source": [
    "#El parametro k_means representa al número de clústeres a formar, así como el número de centroides a generar.\n",
    "# corremos k-medias para 5 clústeres\n",
    "#Utilizaremos el parametro max_iterint, por defecto=300\n",
    "#Número máximo de iteraciones del algoritmo k-means para una sola ejecución.\n",
    "kmeans = KMeans(n_clusters=5, max_iter=300).fit(data)\n",
    "centroids = kmeans.cluster_centers_\n",
    "#print(centroids)\n",
    "kmeans.n_features_in_\n",
    "kmeans.n_init\n",
    "kmeans.labels_.shape\n",
    "kmeans.inertia_\n",
    "kmeans.n_iter_"
   ]
  },
  {
   "cell_type": "code",
   "execution_count": 196,
   "metadata": {},
   "outputs": [
    {
     "name": "stdout",
     "output_type": "stream",
     "text": [
      "Para n_clusters = 2 El silhouette_score promedio es: 0.8089983402410926\n",
      "Para n_clusters = 3 El silhouette_score promedio es: 0.7938898827868366\n",
      "Para n_clusters = 4 El silhouette_score promedio es: 0.7639483750764428\n",
      "Para n_clusters = 5 El silhouette_score promedio es: 0.752162862370265\n",
      "Para n_clusters = 6 El silhouette_score promedio es: 0.7334139941718613\n"
     ]
    },
    {
     "data": {
      "image/png": "[encoded data removed]",
      "text/plain": [
       "<Figure size 576x504 with 1 Axes>"
      ]
     },
     "metadata": {
      "needs_background": "light"
     },
     "output_type": "display_data"
    },
    {
     "data": {
      "image/png": "[encoded data removed]",
      "text/plain": [
       "<Figure size 576x504 with 1 Axes>"
      ]
     },
     "metadata": {
      "needs_background": "light"
     },
     "output_type": "display_data"
    },
    {
     "data": {
      "image/png": "[encoded data removed]",
      "text/plain": [
       "<Figure size 576x504 with 1 Axes>"
      ]
     },
     "metadata": {
      "needs_background": "light"
     },
     "output_type": "display_data"
    },
    {
     "data": {
      "image/png": "[encoded data removed]",
      "text/plain": [
       "<Figure size 576x504 with 1 Axes>"
      ]
     },
     "metadata": {
      "needs_background": "light"
     },
     "output_type": "display_data"
    },
    {
     "data": {
      "image/png": "[encoded data removed]",
      "text/plain": [
       "<Figure size 576x504 with 1 Axes>"
      ]
     },
     "metadata": {
      "needs_background": "light"
     },
     "output_type": "display_data"
    }
   ],
   "source": [
    "# Otro método, o complementario al score es utilizar los valores de silueta para juzgar la calidad de los clústeres. \n",
    "# El valor de la silueta de una observación es una medida normalizada (entre -1 y +1) \n",
    "# de qué tan cerca está esa observación de otras observaciones en el mismo grupo, \n",
    "# en comparación con las observaciones en diferentes grupos.\n",
    "\n",
    "# Una gráfica de silueta muestra el valor de silueta de cada observación, agrupado por racimo\n",
    "# Los esquemas de agrupación en clústeres en los que la mayoría de las observaciones\n",
    "#  tienen un alto valor de silueta son deseables.\n",
    "\n",
    "from sklearn.metrics import silhouette_samples, silhouette_score\n",
    "import matplotlib.cm as cm\n",
    "\n",
    "range_n_clusters = [2, 3, 4, 5, 6]\n",
    "\n",
    "for n_clusters in range_n_clusters:\n",
    "    # Creamos un subplot\n",
    "    fig, (ax1) = plt.subplots(1, 1)\n",
    "    fig.set_size_inches(8, 7)\n",
    "\n",
    "    ax1.set_xlim([-0.1, 1])\n",
    "    ax1.set_ylim([0, len(data) + (n_clusters + 1) * 10])\n",
    "\n",
    "    clusterer = KMeans(n_clusters=n_clusters, random_state=10)\n",
    "    cluster_labels = clusterer.fit_predict(data)\n",
    "\n",
    "    silhouette_avg = silhouette_score(data, cluster_labels)\n",
    "    print(\"Para n_clusters =\", n_clusters,\n",
    "          \"El silhouette_score promedio es:\", silhouette_avg)\n",
    "\n",
    "    # Calculo del score de la silhouette para cada muestra\n",
    "    sample_silhouette_values = silhouette_samples(data, cluster_labels)\n",
    "\n",
    "    y_lower = 10\n",
    "    for i in range(n_clusters):\n",
    "        ith_cluster_silhouette_values = \\\n",
    "            sample_silhouette_values[cluster_labels == i]\n",
    "\n",
    "        ith_cluster_silhouette_values.sort()\n",
    "\n",
    "        size_cluster_i = ith_cluster_silhouette_values.shape[0]\n",
    "        y_upper = y_lower + size_cluster_i\n",
    "\n",
    "        color = cm.nipy_spectral(float(i) / n_clusters)\n",
    "        ax1.fill_betweenx(np.arange(y_lower, y_upper),\n",
    "                          0, ith_cluster_silhouette_values,\n",
    "                          facecolor=color, edgecolor=color, alpha=0.7)\n",
    "\n",
    "        ax1.text(-0.05, y_lower + 0.5 * size_cluster_i, str(i))\n",
    "        y_lower = y_upper + 10  # 10 for the 0 samples\n",
    "\n",
    "    ax1.set_title(\"silhouette plot para los various grupos.\")\n",
    "    ax1.set_xlabel(\"Valores de coeficientes silhouette\")\n",
    "    ax1.set_ylabel(\"clúster label\")\n",
    "\n",
    "    # Linea vertical para el promedio de silhouette score de todos los valores\n",
    "    ax1.axvline(x=silhouette_avg, color=\"red\", linestyle=\"--\")\n",
    "\n",
    "    ax1.set_yticks([])  # \n",
    "    ax1.set_xticks([-0.1, 0, 0.2, 0.4, 0.6, 0.8, 1])\n",
    "\n",
    "    # Etiquetando los clusters\n",
    "    centers = clusterer.cluster_centers_\n",
    "\n",
    "\n",
    "    plt.suptitle((\"Análisis Silhouette para KMeans\"\n",
    "                  \"con n_clusters = %d\" % n_clusters),\n",
    "                 fontsize=14, fontweight='bold')\n",
    "\n",
    "plt.show()"
   ]
  },
  {
   "cell_type": "markdown",
   "metadata": {},
   "source": [
    "<h1 style=\"color:red\">\n",
    " Pregunta 7.-\n",
    "</h1>\n",
    "<h4 style=\"color:#000080\">\n",
    "Sus conclusiones\n",
    "</h4>"
   ]
  },
  {
   "cell_type": "markdown",
   "metadata": {},
   "source": [
    "<p style=\"color:black\">\n",
    "<ul>\n",
    "  <li>La interacción de aprendizaje con el algoritmo kmedias permitió identificar que es necesario especificar el número de clusters que se requiere de manera correcta, dicha observación es el mayor inconveniente de este método, ya que si tomamos un número de clusters inadecuado el rendimiento del modelo se verá afectado.  Sin embargo, existen varios métodos para elegir el número óptimo de clústers, varios expertos recomiendan hacer uso de la técnica de la gráfica elbow, ya que es bastante útil.</li>\n",
    "    <br>\n",
    "  <li>El presente trabajo permitió una mejor visión y entendimiento de los algoritmos vistos en clase, por lo cual se logró comprobar que el algoritmo de regresión logística es bastante eficiente, debido a que no necesita de un gran uso de recursos computacionales, en virtud de que es posible interpretar fácilmente sus características de entrada. Además, de ser adecuado para presentar resultados de probabilidades pronosticadas adecuadamente calibradas.</li>\n",
    "    <br>\n",
    "  <li>Hacer uso del algoritmo knn en el presente caso de estudio, permitió comprender que a medida que aumentamos el valor de K, las predicciones se vuelven más estables, ya que existen más probabilidades de hacer predicciones mucho más precisas que las anteriores. Sin embargo, al momento de que comiencen a aparecer errores, se considera que se ha establecido el valor de k, a un valor muy alto y se lo debe disminuir.</li>\n",
    "    <br>\n",
    "  <li>La investigación que implicó el presente trabajo permitió adquirir información importante acerca de los distintas modelos, de la cual se puede destacar que el modelo de vecinos cercanos es aplicable para problemas de clasificación, regresión y búsqueda.</li>\n",
    "    <br>    \n",
    "</ul>\n",
    "</p>"
   ]
  }
 ],
 "metadata": {
  "kernelspec": {
   "display_name": "Python 3 (ipykernel)",
   "language": "python",
   "name": "python3"
  },
  "language_info": {
   "codemirror_mode": {
    "name": "ipython",
    "version": 3
   },
   "file_extension": ".py",
   "mimetype": "text/x-python",
   "name": "python",
   "nbconvert_exporter": "python",
   "pygments_lexer": "ipython3",
   "version": "3.9.12"
  }
 },
 "nbformat": 4,
 "nbformat_minor": 4
}
